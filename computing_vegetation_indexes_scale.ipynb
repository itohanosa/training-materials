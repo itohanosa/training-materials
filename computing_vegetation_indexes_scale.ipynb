{
 "cells": [
  {
   "cell_type": "markdown",
   "id": "23f9b68b-aab4-4a43-b6e9-20cf137cd5a1",
   "metadata": {},
   "source": [
    "# Computing vegetation indexes at scale using UP42"
   ]
  },
  {
   "cell_type": "markdown",
   "id": "20cf7c11-6877-4a56-b096-df485f58d904",
   "metadata": {},
   "source": [
    "## Introduction\n",
    "\n",
    "This notebook shows how indexes can be computed at scale using UP42. It relies on [gdal_calc](https://gdal.org/programs/gdal_calc.html). For doing the bulk of the work."
   ]
  },
  {
   "cell_type": "markdown",
   "id": "7c5e5601-217b-4b66-bafe-f00c912d0b51",
   "metadata": {},
   "source": [
    "## Install the Python SDK\n",
    "The module is called `up42`. Python **>= 3.7** is **required**.\n",
    "\n",
    " 1. Create a virtual environment.\n",
    "```bash\n",
    " mkvirtualenv --python=$(which python3) up42-py\n",
    "```\n",
    " 2. Activate the environment.\n",
    "```bash\n",
    " workon up42-py\n",
    "```\n",
    " 3. Install the module.\n",
    " ```bash\n",
    " pip install up42-py\n",
    " ```\n",
    " 4. Install Jupyter Lab.\n",
    "```bash\n",
    " pip install jupyterlab\n",
    " ```\n",
    " 5. Done.\n",
    " \n",
    "Now we can just import it."
   ]
  },
  {
   "cell_type": "code",
   "execution_count": null,
   "id": "3206c5ef-ed4c-4860-8f90-232321f6153e",
   "metadata": {},
   "outputs": [],
   "source": [
    "import up42"
   ]
  },
  {
   "cell_type": "markdown",
   "id": "5f14bde2-238c-4470-adb7-93afd06aecd3",
   "metadata": {},
   "source": [
    "## Authenticate with project ID and project key\n",
    "The project API key and the project ID are read from a JSON file.\n",
    "This file has the following structure:\n",
    "\n",
    "```json\n",
    "{\n",
    "  \"project_id\": \"<your-project-ID-here>\",\n",
    "  \"project_api_key\": \"<your-api-key-here>\"\n",
    "}\n",
    "```\n",
    "To know how to obtain the project API key and project ID the please refer to the [documentation](https://docs.up42.com/developers/guides/introduction#project-variables)."
   ]
  },
  {
   "cell_type": "markdown",
   "id": "94dc8330-c95f-412e-b9c2-a31d9175932b",
   "metadata": {},
   "source": [
    "## Some suggested watching & reading for understanding vegetation indexes\n",
    "\n",
    "* [NEON Science video on vegetation indexes](https://www.youtube.com/watch?v=4_EYPNI-A5g).\n",
    "* [NEON Science document on Vegetation indexes](https://data.neonscience.org/api/v0/documents/NEON.DOC.002391vA).\n",
    "\n",
    "Be aware that in this case they are discussing not only satellite imagery, but also aerial imagery with an spectrometer (Hyperspectral sensor).\n",
    "We are using it here just with Sentinel 2 data, hence a much lower number of bands."
   ]
  },
  {
   "cell_type": "markdown",
   "id": "214f7e0c-a248-4b84-ace4-6ddee1fff09a",
   "metadata": {},
   "source": [
    "## Indexes we are computing\n",
    "\n",
    "### NDVI\n",
    "\n",
    "Normal Difference Vegetation Index.\n",
    "\n",
    "$$NDVI = {NIR - Red \\over NIR + Red}$$\n",
    "\n",
    "### EVI\n",
    "\n",
    "#### Enhanced Vegetation Index.\n",
    "\n",
    "$$EVI= 2.5 \\frac{NIR - Red}{NIR+ 6 Red-7.5 Blue+1}$$\n",
    "\n",
    "### ARVI\n",
    "\n",
    "#### Atmospherically Resistant Vegetation Index[]().\n",
    "\n",
    "$$ARVI = \\frac{NIR – 2 Red + Blue}{NIR + 2 Red + Blue}$$\n",
    "\n",
    "\n",
    "### SAVI\n",
    "\n",
    "#### Soil Adjusted Vegetation Index.\n",
    "\n",
    "$$\\mbox{SAVI}=\\frac{1.5\\,(NIR - Red)}{NIR + Red + 0.5}$$\n",
    "\n",
    "\n",
    "For more indexes to be computed with Sentinel 2 please see this [article](https://www.tandfonline.com/doi/pdf/10.1080/22797254.2020.1839359)."
   ]
  },
  {
   "cell_type": "markdown",
   "id": "69fef55e-42bd-4dc9-ae4e-1e4c1346de06",
   "metadata": {},
   "source": [
    "## Using gdal_calc\n",
    "\n",
    "[gdal_calc](https://gdal.org/programs/gdal_calc.html) is one of the utilities made available by the Geospatial Data Abstraction Library (GDAL) which is a C++ library to handle raster and vector files of geospatial data.\n",
    "\n",
    "`gdal_calc` is a Python script that does computations on a set of files using [numpy formulas](https://numpy.org/doc/stable/reference/routines.html). The code is on [github](https://github.com/OSGeo/gdal/blob/206af6ca8e1d44448545ad367bdda172cbb22a95/gdal/swig/python/gdal-utils/osgeo_utils/gdal_calc.py).\n",
    "\n",
    "Since `gdal_calc` is a script it will be run as a shell subprocess, thus things like paralellization of the index computation cannot be done easily since we we would be voiding caches each time we switched between threads. Real parallelization can be done by implementing the indexes yourself and using [Dask](https://docs.dask.org/en/latest/array.html) with [rasterio](https://rasterio.readthedocs.io/en/latest/) or just plain GDAL."
   ]
  },
  {
   "cell_type": "markdown",
   "id": "27864ee0-3eac-441d-b1b5-833274b084ae",
   "metadata": {},
   "source": [
    "## Data source: Sentinel 2 L2A Analytic\n",
    "\n",
    "The data block we'll be using is the [Sentinel 2 Analytic block](https://marketplace.up42.com/block/e13d8e92-2763-4640-80d6-1501b2729707). It returns a set of GeoTIFF files, each representing a band."
   ]
  },
  {
   "cell_type": "markdown",
   "id": "d1415594-8c5c-4536-90bd-b4c6933399fe",
   "metadata": {},
   "source": [
    "## Building the workflow and getting the data\n",
    "\n",
    "### Authenticate & Create the workflow"
   ]
  },
  {
   "cell_type": "code",
   "execution_count": null,
   "id": "7bff1fcd-6b8e-401c-80c0-ab8a80d9a479",
   "metadata": {},
   "outputs": [],
   "source": [
    "# Reading the credentials from myconfig.json.\n",
    "project_config_file = \"/Users/appa/.up42/proj_default.conf\" \n",
    "up42.authenticate(cfg_file = project_config_file)"
   ]
  },
  {
   "cell_type": "code",
   "execution_count": null,
   "id": "b304ee3a-30de-4f24-8bfe-37ecce9eb161",
   "metadata": {},
   "outputs": [],
   "source": [
    "project = up42.initialize_project()"
   ]
  },
  {
   "cell_type": "code",
   "execution_count": null,
   "id": "0a20d51e-fe6d-4409-ac74-d38e6e4b4707",
   "metadata": {},
   "outputs": [],
   "source": [
    "# Create the workflow\n",
    "all_blocks = up42.get_blocks(basic = True)"
   ]
  },
  {
   "cell_type": "code",
   "execution_count": null,
   "id": "262aada3-25a3-4945-ad94-d8c2d2449b96",
   "metadata": {},
   "outputs": [],
   "source": [
    "all_blocks"
   ]
  },
  {
   "cell_type": "code",
   "execution_count": null,
   "id": "b6c2b65c-17f0-4730-b0bc-5193f980d16a",
   "metadata": {},
   "outputs": [],
   "source": [
    "my_tasks = [\"esa-s2-l2a-gtiff-analytic\", \"pansharpen\"]"
   ]
  },
  {
   "cell_type": "markdown",
   "id": "056ea71d-4c6c-4ba1-8cea-9da0020caa96",
   "metadata": {},
   "source": [
    "In order to differentiate the workflow every time you run this cell or the full notebook we are going to add a date string to the workflow name. This string has the form: `yyyymmddhhmmss`."
   ]
  },
  {
   "cell_type": "code",
   "execution_count": null,
   "id": "edf4f037-6502-45ba-b239-d769ee93f94a",
   "metadata": {},
   "outputs": [],
   "source": [
    "import datetime as dt"
   ]
  },
  {
   "cell_type": "code",
   "execution_count": null,
   "id": "b0d3e6f7-1cb5-48d9-8e86-1c6df9a235d3",
   "metadata": {},
   "outputs": [],
   "source": [
    "now_str = dt.datetime.now().strftime(\"%Y%m%d%H%M%S\")"
   ]
  },
  {
   "cell_type": "code",
   "execution_count": null,
   "id": "09b44a2d-6693-47aa-b33c-b9f78d575f0f",
   "metadata": {},
   "outputs": [],
   "source": [
    "workflow = project.create_workflow(\"S2 Analytic for scaling up indexes\" + \"-\" + now_str)"
   ]
  },
  {
   "cell_type": "code",
   "execution_count": null,
   "id": "886bbcb2-888e-4ae4-a022-290f4ea8ba52",
   "metadata": {},
   "outputs": [],
   "source": [
    "workflow.add_workflow_tasks(input_tasks = my_tasks)"
   ]
  },
  {
   "cell_type": "code",
   "execution_count": null,
   "id": "1b9bb274-38e5-4dee-86e0-e0171969214c",
   "metadata": {},
   "outputs": [],
   "source": [
    "aoi1 = up42.read_vector_file(\"/Users/appa/up42/a4f-2020/crop2cash/lekan_farm_list.geojson\")"
   ]
  },
  {
   "cell_type": "code",
   "execution_count": null,
   "id": "56b24e18-0f66-4b96-b319-bece564064a4",
   "metadata": {},
   "outputs": [],
   "source": [
    "aoi2 = up42.read_vector_file(\"/Users/appa/up42/a4f-2020/growforme/newfarm.geojson\")"
   ]
  },
  {
   "cell_type": "code",
   "execution_count": null,
   "id": "b5a7c294-35b0-4d8b-afd6-c90e1d81919a",
   "metadata": {},
   "outputs": [],
   "source": [
    "aoi3 = up42.read_vector_file(\"/Users/appa/up42/a4f-2020/hehe/Juliet.geojson\")"
   ]
  },
  {
   "cell_type": "code",
   "execution_count": null,
   "id": "3f8dbf09-1572-4b12-8f8f-3e6e65cb7203",
   "metadata": {},
   "outputs": [],
   "source": [
    "job_params = workflow.construct_parameters(geometry=aoi2, limit = 2, geometry_operation = \"intersects\")"
   ]
  },
  {
   "cell_type": "code",
   "execution_count": null,
   "id": "df3e7da7-b110-4cd9-a5b8-fea134c585e0",
   "metadata": {},
   "outputs": [],
   "source": [
    "job_params"
   ]
  },
  {
   "cell_type": "code",
   "execution_count": null,
   "id": "ed48e7f9-d472-4686-b70b-916afe89bf2f",
   "metadata": {},
   "outputs": [],
   "source": [
    "real_job = workflow.run_job(input_parameters = job_params, track_status = True)"
   ]
  },
  {
   "cell_type": "markdown",
   "id": "287c3102-fc7c-4585-8c50-5139c5be6457",
   "metadata": {},
   "source": [
    "### Create the output directory \n",
    "\n",
    "No need to do that if the directory the files will be outputed already exists."
   ]
  },
  {
   "cell_type": "code",
   "execution_count": null,
   "id": "6df86777-48a5-4feb-bae4-423aa0b30835",
   "metadata": {},
   "outputs": [],
   "source": [
    "%%bash\n",
    "\n",
    "mkdir -p /Users/appa/up42/a4f-2020/growforme/s2-test"
   ]
  },
  {
   "cell_type": "code",
   "execution_count": null,
   "id": "3cffbfe7-6eda-4be0-919d-5f56bee25f81",
   "metadata": {},
   "outputs": [],
   "source": [
    "my_outdir=\"/Users/appa/up42/a4f-2020/growforme/s2-test\"\n",
    "real_job.download_results(output_directory = my_outdir)"
   ]
  },
  {
   "cell_type": "markdown",
   "id": "83982826-2a70-41eb-b2e0-958f4aa74a20",
   "metadata": {},
   "source": [
    "## Computing the indexes\n",
    "\n",
    "There are several caveats to pay attention to:\n",
    "\n",
    " 1. We are using a Python script `gdal_calc-py` inside a notebook, that is inside a Python environment. \n",
    "    Hence I need to pass the path to `gdal_calc.py`, in this case `/usr/local/bin`.\n",
    " 2. The most important thing to remember is that GDAL is not very user friendly and you can be easily\n",
    "    tripped by _obvious_ mistakes. Usually such mistakes are the hardest to find, because they are so simple\n",
    "    you never considered them. Specifically computing the indexes since some indexes (e.g., EVI, ARVI) do\n",
    "    multiplications overflows are easily generated. So you should **always** specify the output data type.\n",
    "\n",
    "### Choosing an output data type for `gdal_calc`\n",
    "\n",
    "First we see what data types we have using [gdalinfo]9.  "
   ]
  },
  {
   "cell_type": "code",
   "execution_count": null,
   "id": "384b5c39-0810-4b6e-8d5a-abb37a3c4593",
   "metadata": {},
   "outputs": [],
   "source": [
    "%%bash\n",
    "\n",
    "OUTDIR=/Users/appa/up42/a4f-2020/growforme/s2-test/S2A_30PYR_20210506_0_L2A/\n",
    "\n",
    "gdalinfo -json $OUTDIR/S2A_30PYR_20210506_0_L2A_pan.tif | jq -r '.bands[].type'"
   ]
  },
  {
   "cell_type": "markdown",
   "id": "782193b1-9155-4e54-90fd-0ad3926483f4",
   "metadata": {},
   "source": [
    "As we can see the reflectance values for **all** the bands are represented as a [16 bit unsigned integer](https://en.wikipedia.org/wiki/Integer_(computer_science)#Common_integral_data_types). Now if we look at the formulas for EVI and ARVI, for example, we can see that some of the bands are multiplied by values bigger than 1. This is can create data type overflows. We need to take that into consideration.\n",
    "\n",
    "\n",
    "Since the data type we have for input is UInt16 and the multiplications we are doing are _**promoting**_ the results to be a 32 bit floating point number we need to specify the data type `Float32` as the ouptut data type.  "
   ]
  },
  {
   "cell_type": "markdown",
   "id": "3382b2cd-489b-460d-8bef-6db26962aa0a",
   "metadata": {},
   "source": [
    "### Compute NDVI, EVI, ARVI and SAVI\n",
    "\n",
    "Since the image we get is pansharpaned and all the bands are combined we need to be able to select the right bands for the computation. Here are the bands for Sentinel 2 (cf. [Sentinel 2 MSI](https://sentinel.esa.int/web/sentinel/technical-guides/sentinel-2-msi/msi-instrument)).\n",
    "\n",
    "\n",
    "| Band Category | Spatial Resolution | Revisit |\n",
    "|:---|:---|:---|\n",
    "| Visible (4)          | 10 m | 5 days |\n",
    "| Near-Infrared (6)    | 20 m | 5 days |\n",
    "| Short-wave IR (3)    | 60 m | 5 days |\n",
    "\n",
    "\n",
    "| Name | Resolution | Description |\n",
    "|:---|:---:|:---|\n",
    "| B01  | 60 m | Coastal aerosol, 442.7 nm (S2A), 442.2 nm (S2B)    |\n",
    "| B02  | 10 m | Blue, 492.4 nm (S2A), 492.1 nm (S2B)               |\n",
    "| B03  | 10 m | Green, 559.8 nm (S2A), 559.0 nm (S2B)              |\n",
    "| B04  | 10 m | Red, 664.6 nm (S2A), 664.9 nm (S2B)                |\n",
    "| B05  | 20 m | Vegetation red edge, 704.1 nm (S2A), 703.8 nm (S2B)|\n",
    "| B06  | 20 m |\tVegetation red edge, 740.5 nm (S2A), 739.1 nm (S2B)|\n",
    "| B07  | 20 m | Vegetation red edge, 782.8 nm (S2A), 779.7 nm (S2B)|\n",
    "| B08  | 10 m | NIR, 832.8 nm (S2A), 832.9 nm (S2B)                |\n",
    "| B8A  | 20 m | Narrow NIR, 864.7 nm (S2A), 864.0 nm (S2B)         |\n",
    "| B09  | 60 m | Water vapour, 945.1 nm (S2A), 943.2 nm (S2B)       |\n",
    "| B10  | 60 m | SWIR – Cirrus, 1373.5 nm (S2A), 1376.9 nm (S2B)    |\n",
    "| B11  | 20 m | SWIR, 1613.7 nm (S2A), 442.2 nm (S2B)              |\n",
    "| B12  | 20 m | SWIR, 2202.4 nm (S2A), 442.2 nm (S2B)              |\n",
    "\n",
    "\n",
    " * For **NDVI** we need bands **4 (Red)** and **8 (NIR)**.\n",
    " * For **EVI** and **ARVI** we also need band **2 (Blue)**."
   ]
  },
  {
   "cell_type": "markdown",
   "id": "7bd9c5f4-a5b2-4dec-989f-7b5d9f8b2b2b",
   "metadata": {},
   "source": [
    "Note that here we are computing indexes for the **two** images we retrieved two above. Is quite easy to loop on the directories, looking for the files with a name pattern like `S2*_pan.tif`."
   ]
  },
  {
   "cell_type": "code",
   "execution_count": null,
   "id": "15ddc3c7-ad43-4427-8904-f9e405bd5f96",
   "metadata": {},
   "outputs": [],
   "source": [
    "%%bash\n",
    "\n",
    "# Create a shell variable with the output directory. \n",
    "# This could all be avoided if the notebook was running on the output directory.\n",
    "OUTDIR=/Users/appa/up42/a4f-2020/growforme/s2-test\n",
    "\n",
    "ls $OUTDIR"
   ]
  },
  {
   "cell_type": "markdown",
   "id": "366981f2-6e62-4183-98ae-dccfd6a25832",
   "metadata": {},
   "source": [
    "There is a single file. Let us compute the 4 vegetation indexes above. \n",
    "\n",
    "#### NDVI"
   ]
  },
  {
   "cell_type": "code",
   "execution_count": null,
   "id": "d220a8ec-bce5-4349-9ba9-19380edb1c70",
   "metadata": {},
   "outputs": [],
   "source": [
    "%%bash\n",
    "\n",
    "OUTDIR=/Users/appa/up42/a4f-2020/growforme/s2-test/\n",
    "\n",
    "# Looping on all the files.\n",
    "for i in $(find $OUTDIR -type f -name 'S2*_pan.tif' -print); do\n",
    "    # PATH needs to be passed to locate the script and the Python modules (osgeo) needed by gdal_calc.\n",
    "    PATH=/usr/local/bin gdal_calc.py \\\n",
    "        -A $i --A_band=8 \\\n",
    "        -B $i --B_band=4 \\\n",
    "        --outfile=$(dirname $i)/NDVI_$(basename $i) \\\n",
    "        --calc=\"A-B/(A+B)\" --overwrite \\\n",
    "        --type=Float32 --NoData=0\n",
    "done"
   ]
  },
  {
   "cell_type": "markdown",
   "id": "4d4d8787-7a0f-47fa-82d5-b67f4aca7a5a",
   "metadata": {},
   "source": [
    "Let us plot the NDVI output."
   ]
  },
  {
   "cell_type": "code",
   "execution_count": null,
   "id": "1703fff9-edcb-4247-8689-22ddeae97a0b",
   "metadata": {},
   "outputs": [],
   "source": [
    "import rasterio as rio"
   ]
  },
  {
   "cell_type": "code",
   "execution_count": null,
   "id": "b53fd25f-0dc0-409e-a753-31bc083f91b8",
   "metadata": {},
   "outputs": [],
   "source": [
    "from pathlib import Path"
   ]
  },
  {
   "cell_type": "code",
   "execution_count": null,
   "id": "9ad81348-4013-434d-92ff-4e6444df0d1d",
   "metadata": {},
   "outputs": [],
   "source": [
    "[rio.plot.show(rio.open(fn), title = fn) for fn in [f\"{v}\" for v in Path(my_outdir).glob(\"**/NDVI_*\")]]"
   ]
  },
  {
   "cell_type": "markdown",
   "id": "c44142e7-b967-439a-bb57-c153031b63ca",
   "metadata": {},
   "source": [
    "#### EVI"
   ]
  },
  {
   "cell_type": "code",
   "execution_count": null,
   "id": "6f117606-041a-4ef6-a1e2-c24f4c369659",
   "metadata": {},
   "outputs": [],
   "source": [
    "%%bash\n",
    "\n",
    "OUTDIR=/Users/appa/up42/a4f-2020/growforme/s2-test/\n",
    "\n",
    "# Looping on all the files.\n",
    "for i in $(find $OUTDIR -type f -name 'S2*_pan.tif' -print); do\n",
    "    # PATH needs to be passed to locate the script and the Python modules (osgeo) needed by gdal_calc.\n",
    "    PATH=/usr/local/bin gdal_calc.py \\\n",
    "        -A $i --A_band=8 \\\n",
    "        -B $i --B_band=4 \\\n",
    "        -C $i --C_band=2 \\\n",
    "        --outfile=$(dirname $i)/EVI_$(basename $i) \\\n",
    "        --calc=\"2.5*(A-B)/(A+6*B-7.5*C+1)\" --overwrite \\\n",
    "        --type=Float32 --NoData=0\n",
    "done"
   ]
  },
  {
   "cell_type": "code",
   "execution_count": null,
   "id": "6cd01e50-c59f-4656-8da5-ab30c43c3024",
   "metadata": {},
   "outputs": [],
   "source": [
    "[rio.plot.show(rio.open(fn), title = fn) for fn in [f\"{v}\" for v in Path(my_outdir).glob(\"**/EVI_*\")]]"
   ]
  },
  {
   "cell_type": "markdown",
   "id": "650642fa-fcbd-440b-8605-5bcf98ccb3ae",
   "metadata": {},
   "source": [
    "### ARVI"
   ]
  },
  {
   "cell_type": "code",
   "execution_count": null,
   "id": "38d96a59-bc35-40b9-a3d9-9e7866d78414",
   "metadata": {},
   "outputs": [],
   "source": [
    "%%bash\n",
    "\n",
    "OUTDIR=/Users/appa/up42/a4f-2020/growforme/s2-test/\n",
    "\n",
    "# Looping on all the files.\n",
    "for i in $(find $OUTDIR -type f -name 'S2*_pan.tif' -print); do\n",
    "    # PATH needs to be passed to locate the script and the Python modules (osgeo) needed by gdal_calc.\n",
    "    PATH=/usr/local/bin gdal_calc.py \\\n",
    "        -A $i --A_band=8 \\\n",
    "        -B $i --B_band=4 \\\n",
    "        -C $i --C_band=2 \\\n",
    "        --outfile=$(dirname $i)/ARVI_$(basename $i) \\\n",
    "        --calc=\"(A-2*B+C)/(A+2*B+C)\" --overwrite \\\n",
    "        --type=Float32 --NoData=0\n",
    "done"
   ]
  },
  {
   "cell_type": "code",
   "execution_count": null,
   "id": "6bdb8a8b-1fb2-4667-8611-9124df24cf18",
   "metadata": {},
   "outputs": [],
   "source": [
    "[rio.plot.show(rio.open(fn), title = fn) for fn in [f\"{v}\" for v in Path(my_outdir).glob(\"**/ARVI_*\")]]"
   ]
  },
  {
   "cell_type": "markdown",
   "id": "3a6d6b24-268f-43fa-931e-a59d735cbe01",
   "metadata": {},
   "source": [
    "### SAVI"
   ]
  },
  {
   "cell_type": "code",
   "execution_count": null,
   "id": "35f292d0-01bd-47ef-ad38-27e4e5b8fdc3",
   "metadata": {},
   "outputs": [],
   "source": [
    "%%bash\n",
    "\n",
    "OUTDIR=/Users/appa/up42/a4f-2020/growforme/s2-test/\n",
    "\n",
    "# Looping on all the files.\n",
    "for i in $(find $OUTDIR -type f -name 'S2*_pan.tif' -print); do\n",
    "    # PATH needs to be passed to locate the script and the Python modules (osgeo) needed by gdal_calc.\n",
    "    PATH=/usr/local/bin gdal_calc.py \\\n",
    "        -A $i --A_band=8 \\\n",
    "        -B $i --B_band=4 \\\n",
    "        --outfile=$(dirname $i)/SAVI_$(basename $i) \\\n",
    "        --calc=\"1.5*(A-B)/(A+B+0.5)\" --overwrite \\\n",
    "        --type=Float32 --NoData=0\n",
    "done"
   ]
  },
  {
   "cell_type": "code",
   "execution_count": null,
   "id": "4320fea1-1f05-4417-99d9-cc34f7f32387",
   "metadata": {},
   "outputs": [],
   "source": [
    "[rio.plot.show(rio.open(fn), title = fn) for fn in [f\"{v}\" for v in Path(my_outdir).glob(\"**/SAVI_*\")]]"
   ]
  }
 ],
 "metadata": {
  "kernelspec": {
   "display_name": "Python 3",
   "language": "python",
   "name": "python3"
  },
  "language_info": {
   "codemirror_mode": {
    "name": "ipython",
    "version": 3
   },
   "file_extension": ".py",
   "mimetype": "text/x-python",
   "name": "python",
   "nbconvert_exporter": "python",
   "pygments_lexer": "ipython3",
   "version": "3.9.4"
  }
 },
 "nbformat": 4,
 "nbformat_minor": 5
}
