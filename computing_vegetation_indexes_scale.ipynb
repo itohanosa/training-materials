{
 "cells": [
  {
   "cell_type": "markdown",
   "id": "23f9b68b-aab4-4a43-b6e9-20cf137cd5a1",
   "metadata": {},
   "source": [
    "# Computing vegetation indexes at scale using UP42"
   ]
  },
  {
   "cell_type": "markdown",
   "id": "20cf7c11-6877-4a56-b096-df485f58d904",
   "metadata": {},
   "source": [
    "## Introduction\n",
    "\n",
    "This notebook shows how indexes can be computed at scale using UP42. It relies on [gdal_calc](https://gdal.org/programs/gdal_calc.html). For doing the bulk of the work."
   ]
  },
  {
   "cell_type": "markdown",
   "id": "7c5e5601-217b-4b66-bafe-f00c912d0b51",
   "metadata": {},
   "source": [
    "## Install the Python SDK\n",
    "The module is called `up42`. Python **>= 3.7** is **required**.\n",
    "\n",
    " 1. Create a virtual environment.\n",
    "```bash\n",
    " mkvirtualenv --python=$(which python3) up42-py\n",
    "```\n",
    " 2. Activate the environment.\n",
    "```bash\n",
    " workon up42-py\n",
    "```\n",
    " 3. Install the module.\n",
    " ```bash\n",
    " pip install up42-py\n",
    " ```\n",
    " 4. Install Jupyter Lab.\n",
    "```bash\n",
    " pip install jupyterlab\n",
    " ```\n",
    " 5. Done.\n",
    " \n",
    "Now we can just import it."
   ]
  },
  {
   "cell_type": "code",
   "execution_count": 1,
   "id": "3206c5ef-ed4c-4860-8f90-232321f6153e",
   "metadata": {},
   "outputs": [],
   "source": [
    "import up42"
   ]
  },
  {
   "cell_type": "markdown",
   "id": "5f14bde2-238c-4470-adb7-93afd06aecd3",
   "metadata": {},
   "source": [
    "## Authenticate with project ID and project key\n",
    "The project API key and the project ID are read from a JSON file.\n",
    "This file has the following structure:\n",
    "\n",
    "```json\n",
    "{\n",
    "  \"project_id\": \"<your-project-ID-here>\",\n",
    "  \"project_api_key\": \"<your-api-key-here>\"\n",
    "}\n",
    "```\n",
    "To know how to obtain the project API key and project ID the please refer to the [documentation](https://docs.up42.com/developers/guides/introduction#project-variables)."
   ]
  },
  {
   "cell_type": "markdown",
   "id": "94dc8330-c95f-412e-b9c2-a31d9175932b",
   "metadata": {},
   "source": [
    "## Some suggested watching & reading for understanding vegetation indexes\n",
    "\n",
    "* [NEON Science video on vegetation indexes](https://www.youtube.com/watch?v=4_EYPNI-A5g).\n",
    "* [NEON Science document on Vegetation indexes](https://data.neonscience.org/api/v0/documents/NEON.DOC.002391vA).\n",
    "\n",
    "Be aware that in this case they are discussing not only satellite imagery, but also aerial imagery with an spectrometer (Hyperspectral sensor).\n",
    "We are using it here just with Sentinel 2 data, hence a much lower number of bands."
   ]
  },
  {
   "cell_type": "markdown",
   "id": "214f7e0c-a248-4b84-ace4-6ddee1fff09a",
   "metadata": {},
   "source": [
    "## Indexes we are computing\n",
    "\n",
    "### NDVI\n",
    "\n",
    "Normal Difference Vegetation Index.\n",
    "\n",
    "$$NDVI = {NIR - Red \\over NIR + Red}$$\n",
    "\n",
    "### EVI\n",
    "\n",
    "#### Enhanced Vegetation Index.\n",
    "\n",
    "$$EVI= 2.5 \\frac{NIR - Red}{NIR+ 6 Red-7.5 Blue+1}$$\n",
    "\n",
    "### ARVI\n",
    "\n",
    "#### Atmospherically Resistant Vegetation Index[]().\n",
    "\n",
    "$$ARVI = \\frac{NIR – 2 Red + Blue}{NIR + 2 Red + Blue}$$\n",
    "\n",
    "\n",
    "### SAVI\n",
    "\n",
    "#### Soil Adjusted Vegetation Index.\n",
    "\n",
    "$$\\mbox{SAVI}=\\frac{1.5\\,(NIR - Red)}{NIR + Red + 0.5}$$\n",
    "\n",
    "\n",
    "For more indexes to be computed with Sentinel 2 please see this [article](https://www.tandfonline.com/doi/pdf/10.1080/22797254.2020.1839359)."
   ]
  },
  {
   "cell_type": "markdown",
   "id": "69fef55e-42bd-4dc9-ae4e-1e4c1346de06",
   "metadata": {},
   "source": [
    "## Using gdal_calc\n",
    "\n",
    "[gdal_calc](https://gdal.org/programs/gdal_calc.html) is one of the utilities made available by the Geospatial Data Abstraction Library (GDAL) which is a C++ library to handle raster and vector files of geospatial data.\n",
    "\n",
    "`gdal_calc` is a Python script that does computations on a set of files using [numpy formulas](https://numpy.org/doc/stable/reference/routines.html). The code is on [github](https://github.com/OSGeo/gdal/blob/206af6ca8e1d44448545ad367bdda172cbb22a95/gdal/swig/python/gdal-utils/osgeo_utils/gdal_calc.py).\n",
    "\n",
    "Since `gdal_calc` is a script it will be run as a shell subprocess, thus things like paralellization of the index computation cannot be done easily since we we would be voiding caches each time we switched between threads. Real parallelization can be done by implementing the indexes yourself and using [Dask](https://docs.dask.org/en/latest/array.html) with [rasterio](https://rasterio.readthedocs.io/en/latest/) or just plain GDAL."
   ]
  },
  {
   "cell_type": "markdown",
   "id": "27864ee0-3eac-441d-b1b5-833274b084ae",
   "metadata": {},
   "source": [
    "## Data source: Sentinel 2 L2A Analytic\n",
    "\n",
    "The data block we'll be using is the [Sentinel 2 Analytic block](https://marketplace.up42.com/block/e13d8e92-2763-4640-80d6-1501b2729707). It returns a set of GeoTIFF files, each representing a band."
   ]
  },
  {
   "cell_type": "markdown",
   "id": "d1415594-8c5c-4536-90bd-b4c6933399fe",
   "metadata": {},
   "source": [
    "## Building the workflow and getting the data\n",
    "\n",
    "### Authenticate & Create the workflow"
   ]
  },
  {
   "cell_type": "code",
   "execution_count": 2,
   "id": "7bff1fcd-6b8e-401c-80c0-ab8a80d9a479",
   "metadata": {},
   "outputs": [
    {
     "name": "stderr",
     "output_type": "stream",
     "text": [
      "2021-05-11 00:52:34,517 - Got credentials from config file.\n",
      "2021-05-11 00:52:35,519 - Authentication with UP42 successful!\n"
     ]
    }
   ],
   "source": [
    "# Reading the credentials from myconfig.json.\n",
    "project_config_file = \"/Users/appa/.up42/proj_default.conf\" \n",
    "up42.authenticate(cfg_file = project_config_file)"
   ]
  },
  {
   "cell_type": "code",
   "execution_count": 3,
   "id": "b304ee3a-30de-4f24-8bfe-37ecce9eb161",
   "metadata": {},
   "outputs": [
    {
     "name": "stderr",
     "output_type": "stream",
     "text": [
      "2021-05-11 00:52:36,565 - Initialized Project(name: Costumer calls, project_id: 5ea6a20d-4fa9-42a1-8e29-f2d9b27b0097, description: , createdAt: 2020-11-04T16:02:00.605788Z)\n"
     ]
    }
   ],
   "source": [
    "project = up42.initialize_project()"
   ]
  },
  {
   "cell_type": "code",
   "execution_count": 4,
   "id": "0a20d51e-fe6d-4409-ac74-d38e6e4b4707",
   "metadata": {},
   "outputs": [
    {
     "name": "stderr",
     "output_type": "stream",
     "text": [
      "2021-05-11 00:52:39,738 - Getting blocks name and id, use basic=False for all block details.\n"
     ]
    }
   ],
   "source": [
    "# Create the workflow\n",
    "all_blocks = up42.get_blocks(basic = True)"
   ]
  },
  {
   "cell_type": "code",
   "execution_count": 5,
   "id": "262aada3-25a3-4945-ad94-d8c2d2449b96",
   "metadata": {},
   "outputs": [
    {
     "data": {
      "text/plain": [
       "{'oneatlas-spot-aoiclipped': '045019bb-06fc-4fa1-b703-318725b4d8af',\n",
       " 'tiling': '3e146dd6-2b67-4d6e-a422-bb3d973e32ff',\n",
       " 'sobloo-s2-l1c-fullscene': '98c1acfa-c141-4095-b2e6-acf52d110178',\n",
       " 'oneatlas-pleiades-aoiclipped': '18d09f1a-3197-4c27-a15a-54d099c31435',\n",
       " 'sobloo-s1-grd-fullscene': 'b623400c-c5ac-40af-bda2-0d2734aa9dd1',\n",
       " 'snap-polarimetric': '8c6baae9-d50e-406c-b4ac-e211caa6229d',\n",
       " 'spacemetric-cloud-mask': '05796180-75ea-4194-a836-7bd2325457cc',\n",
       " 'aiads_rgb_t3': '4123fe57-3b79-4b74-a6ef-f7bb9d08e028',\n",
       " 'farearth/up42/house-detection': 'a09e65e0-4c57-415e-8a33-969a287d89af',\n",
       " 'ship-detection': '79e3e48c-d65f-4528-a6d4-e8d20fecc93c',\n",
       " 'sentinelhub-s2-aoiclipped': '018dfb34-fc19-4334-8125-14fd7535f979',\n",
       " 'wind_turbines': 'e924d32d-cafa-45bf-a260-5eb0d0295750',\n",
       " 'storage_tank': 'e271b0f9-afc8-45db-9c2e-037101ce5b53',\n",
       " 'sentinelhub-landsat8-aoiclipped': '95519b2d-09d7-4cd0-a321-4d6a46bef6c1',\n",
       " 'coreg': '6c379120-9789-448c-8ef0-bf80e9722f64',\n",
       " 'qzsolutions.ndvi': 'b5b6ac43-287e-41ed-bf1a-36587a9273b5',\n",
       " 'ndwi': '6559a2d2-f023-461a-a14d-f094618c9ba0',\n",
       " 'ndvi': 'd0da4ac9-94c6-4905-80f5-c95e702ca878',\n",
       " 'orbital_pleiades_cars': '7d8dda9f-db1e-4645-9c1b-e056e0bdc698',\n",
       " 'orbital_pleiades_trucks': '33e75b50-16da-43ef-afca-07e19ebf12f1',\n",
       " 'building-detection': 'ea459386-d2e1-4af2-b121-0b2cbe2314ef',\n",
       " 'change-detection': '967dcedf-61bc-4fc9-99be-18463c1e85e6',\n",
       " 'sobloo-s1-slc-fullscene': '222c9742-ed19-4a2e-aa87-d6b58193cd31',\n",
       " 'evi': '966517e3-bb68-4d40-ba8a-b9e5c5b4170d',\n",
       " 'savi': '2301f05e-59e6-4cc7-96bd-723e46cd3b1c',\n",
       " 'nbi': 'c18cc521-b451-411b-a32e-63c6ffa11f8d',\n",
       " 'msi': '6e264c46-79bd-4a9a-b53b-b40894c1926e',\n",
       " 'nasa-modis': 'ef6faaf5-8182-4986-bce4-4f811d2745e5',\n",
       " 's2-superresolution': 'f6c29b0a-75bd-44a1-a040-f18c9e881d1d',\n",
       " 'buildingbox': '55d1087b-aec5-490d-9619-54ddb25ed1e0',\n",
       " 'oneatlas-pleiades-fullscene': 'defb134b-ca00-4e16-afa0-639c6dc0c5fe',\n",
       " 'oneatlas-spot-fullscene': '63a69b97-1765-474e-b465-0b319b8d3b2d',\n",
       " 'deforestation': '8eb7e460-bb08-4a8e-bf7c-3f273b823f12',\n",
       " 'pansharpen': '903f0435-d638-475e-bbe9-53b5664a22a8',\n",
       " 'sports-detection': 'b8030602-f455-4120-a0e1-724ff369f049',\n",
       " 'srr-block': '5b366455-1db4-49af-a709-64a508e2fb91',\n",
       " 'burnt_area_extraction': 'b904d5db-754e-4d35-843e-c10d109d371a',\n",
       " 'kmeans-clustering': '2ac55313-240d-4a7e-ac47-b7e7786f1f25',\n",
       " 'sobloo-s5p': '0c0c217f-d926-4534-9072-2e4ead2d3e6c',\n",
       " 'crs-conversion': '30f20bac-7499-4159-a4f3-38188a6e33e0',\n",
       " 'sobloo-s3': 'ee08281c-d950-4258-81d5-e37187a9580e',\n",
       " 'vectorising': 'a9c26542-c431-4e89-b654-8cf5c3d2f0b6',\n",
       " 'dra': '56b2ba1a-000e-4dec-8657-0f85b7c7a6ac',\n",
       " 'sharpening': 'e374ea64-dc3b-4500-bb4b-974260fb203e',\n",
       " 'superresolution': '0f1ba0c4-75fb-4a11-bb0b-d65fd4214240',\n",
       " 'zonal-statistics': '10cc89b3-5bf1-48a0-8dcd-04fa079ba1e9',\n",
       " 'orbital_pleiades_aircraft': '4f2f3438-d31b-4872-ab15-ce50160dd70e',\n",
       " 'qzsolutions.mixer': 'af6331c9-c319-498d-bb4a-4e26e3902eea',\n",
       " 's5p-lvl3': 'a9397cf1-8ea6-4c03-9634-3678438c0508',\n",
       " 'building_extraction': 'f427ad08-617d-4c33-8e32-32075352c3d3',\n",
       " 'flood_mapping': 'fc8b89fa-8bed-4504-a4d2-b0dcd1aaef61',\n",
       " 'sm_veh-detection': 'ebc026fb-75a1-4d12-befd-24b3329bc5e8',\n",
       " 'buildingdetection': '06a81a0f-f5cd-4374-98fb-cf456feea295',\n",
       " 'qzsolutions.evi': 'e5d1ab79-ea17-4eac-9590-c754c7f931f9',\n",
       " 'qzsolutions.savi': 'c3f928ca-0475-43ae-bd10-f878eb0f5a37',\n",
       " 'qzsolutions.sipi': 'b1778d1d-3422-418e-92e0-042f4d2e09da',\n",
       " 'qzsolutions.cigreen': '2968a8de-c66d-45be-83d9-7663bac037fd',\n",
       " 'qzsolutions.nbr': 'd55725f0-4481-4daf-a1a3-2e7de7cb9c27',\n",
       " 'qzsolutions.arvi': 'c338cca5-ff19-4f52-b858-5464215f3817',\n",
       " 'ship-identification': '54217695-73f4-4528-a575-a429e9af6568',\n",
       " 'ais-hvt': 'c1678e74-70b5-47a7-b8fe-caebc4f470d9',\n",
       " 'ais-hvp': '00cc275a-fa04-44a5-9100-bffd6521b52e',\n",
       " 'meteomatics': '235addd2-3efe-424b-8c35-d9b41dfe0eb5',\n",
       " 'lg_veh-detection': '0ef92e5e-7b0c-459b-a6f1-ef3a6317f9dd',\n",
       " 'oneatlas-pleiades-primary': '7bcfa144-e261-4228-b18e-4fc3d35e0b73',\n",
       " 'terracover-realsat-historical': 'b1711286-c002-460d-8b28-b817fadc6cd0',\n",
       " 'platforms-up42-up42pitch-tsx-block-eec': 'c766f8cc-e6d3-459b-b46c-ffeeca969edf',\n",
       " 'platforms-up42-up42pitch-tsx-block-ssc': '12e97249-abc5-4f58-b7fa-181b07e362cd',\n",
       " 'gm-wmts-250mm': '7f7b257a-28cc-403e-8c8d-5b7d47c5c420',\n",
       " 'gm-wmts-125mm': 'f2acfa3c-bcf9-49d6-a7b8-79b122890987',\n",
       " 'data-conversion-dimap': 'c94bb4cd-8ee2-40df-ba76-d332b8f48c6a',\n",
       " 'data-conversion-netcdf': 'e826be64-827b-4df9-b32d-56c528b8050d',\n",
       " 'snapship': '7f5645b3-59d7-4800-9dc3-924fb6f70db0',\n",
       " 'aws-s2-l2a': 'e6d0cb52-b649-4fca-9f2f-e215b7c02a37',\n",
       " 'nextmapone-5m': 'f73c60f6-3f3c-4120-96cf-62b8d3019346',\n",
       " 'nextmapone-10m': '8e527ea8-c8b3-46ab-86c1-b05dbeee7b42',\n",
       " 'nextmapone-1m': '1f09fcb0-7f5c-4e91-b059-36df7f64d2c9',\n",
       " 'advanced-water-related-geohazards-predictor': '6cf139d5-bc8e-4201-9464-964899296d41',\n",
       " 'dymaxionlabs/up42-pools-detector': '446645af-4722-42c5-be4e-88081e25ce51',\n",
       " 'aws-l8-l1': '3c89d53e-6aec-43bb-b8b8-3e7f0132e28e',\n",
       " 'landcover': 'dd0ffe31-6d70-45a0-90d2-ddebe73ce807',\n",
       " 'openstreetmap': 'df2ec03a-50c4-47ac-8a83-2db613869cf9',\n",
       " 'geotiff-custom': 'eed51bcb-c7cc-4084-b518-6c59f46b48c8',\n",
       " 'dimap-custom': '98066215-6c60-4076-bbb8-031987fec7fc',\n",
       " 'fertilization-zoning-map': '99707a80-180e-4cf6-b903-741093bacd71',\n",
       " 'aws-modis': '15edaaa5-7d82-4ca7-b0ea-17f7f2006590',\n",
       " 'tree-height-detection': 'f5bf583e-dacb-489c-95b4-0e8be95accc9',\n",
       " 'up42-countobjects': '4eb9fbbe-8fc3-48c6-a534-f3ad8ab15ebf',\n",
       " 'up42-exportdata-raster': 'b3dd4c58-6a2d-4ec2-8630-c9b5a3e93a31',\n",
       " 'up42-exportdata-vector': '3af41d3f-11cf-49ec-93c5-80b6e60c41e8',\n",
       " 'meteomatics-weather-map': '34bc86a2-3d5d-42dd-a597-a2a2dd3c9f5f',\n",
       " 'exactearth-ais-query-vessel': '75598899-26bf-4d1a-9a1c-b9d59bf0549a',\n",
       " 'hexagon-aerial-15cm-streaming': 'ad8c638f-dd99-4c55-ba9e-969d20ce48f2',\n",
       " 'hexagon-aerial-15cm-download': '455dfbf8-b8a9-4866-b518-3d59dfa85f83',\n",
       " 'hexagon-aerial-30cm-download': 'a0766df2-6cdd-42d8-b74a-3ba160dcdb43',\n",
       " 'hexagon-aerial-30cm-streaming': '65711d3a-c6e3-4350-a0d8-e1c1c6f79fe6',\n",
       " 'airbus-globalseeps-sample': 'dfc5d74f-d1e3-4e35-8c67-b36fd8cfe14e',\n",
       " 'oneatlas-cloudmask': 'ad083328-0fb4-4547-9f58-7815505d2ce4',\n",
       " 'up42-ndvithreshold': '2b0181ef-4dba-45a2-974b-475175a6a712',\n",
       " 'latitudo40-lst': '34767300-5caf-472b-a684-a351212b5c14',\n",
       " 'oneatlas-spot-display': '3e24ed57-b07f-4d44-9957-5d5c0a457239',\n",
       " 'oneatlas-pleiades-display': '6ac78530-6200-42c1-b6a9-381a9f69d8ef',\n",
       " 'tree-detection': '0a1fc97b-dd5f-41ab-9208-658991e8abd6',\n",
       " 'shadow-detection': 'b007810f-bc04-46bc-86d6-c6fbd49ee283',\n",
       " 'viewshed': '52060864-1346-40ba-b340-f47083bb2d8a',\n",
       " 'up42-import-geojson': 'd2903c7b-b200-4afa-8676-11eec792ee15',\n",
       " 'up42-terrasar-geotiff-conversion': '08e0eb4f-c26f-4e4a-8a1e-2f39002624f7',\n",
       " 'oneatlas-basemap-streaming': 'ca5be7bf-aad9-457d-a885-d029e9327e77',\n",
       " 'oneatlas-basemap-download': 'c45058c0-286e-44eb-ae1c-f33a03cac410',\n",
       " 'terracover-realsat': '33a4fd80-a822-47c0-a88e-b4fa1ac975c2',\n",
       " 'airbus-globalseeps': '061a4c71-044d-48b1-a3ae-91293779731c',\n",
       " 'up42-waterfinder-water': '705823cd-d295-4784-8131-06aa4afd0fcb',\n",
       " 'up42-waterfinder-flood': 'f23ccfe4-16b0-46a2-8fe2-4203daa1f267',\n",
       " 'catalystpro-insstack': '23de425c-7954-45fb-84c5-f75abe00e2d2',\n",
       " 'esa-s5p-l3-gtiff': '70919851-c563-4e5e-9393-029cf10377c7',\n",
       " 'up42-timeseries-image-statistics': '1cbfab83-8c73-451b-9176-72b42d2cb716',\n",
       " 'oneatlas-worlddem-12m': '1cdf4786-f524-41d5-9d88-b877c2a2bb4f',\n",
       " 'meteomatics-agriculture': '84f84805-d2c4-4068-90b5-b4b17d166b71',\n",
       " 'meteomatics-energy': '1f96c1a4-fb8c-46c1-9807-7efb8590eb77',\n",
       " 'meteomatics-ocean': '7dfe3cc7-1e3c-4c59-b6d7-bf1e218640a6',\n",
       " 'esa-s2-l2a-gtiff-analytic': 'e13d8e92-2763-4640-80d6-1501b2729707',\n",
       " 'esa-s2-l2a-gtiff-visual': 'c4cb8913-2ef3-4e82-a426-65ea8faacd9a',\n",
       " 'fieldfinder': '8a89b7dd-b70b-48bb-8a02-bf020184f972',\n",
       " 'hyperverge-changedetection-pleiades': '893c63ee-18e5-45e2-a517-7322d317c223',\n",
       " 'hyperverge-changedetection-spot': 'c114df3a-b05f-48b0-b2dc-eeec3d85a8fe'}"
      ]
     },
     "execution_count": 5,
     "metadata": {},
     "output_type": "execute_result"
    }
   ],
   "source": [
    "all_blocks"
   ]
  },
  {
   "cell_type": "code",
   "execution_count": 6,
   "id": "b6c2b65c-17f0-4730-b0bc-5193f980d16a",
   "metadata": {},
   "outputs": [],
   "source": [
    "my_tasks = [\"esa-s2-l2a-gtiff-analytic\", \"pansharpen\"]"
   ]
  },
  {
   "cell_type": "markdown",
   "id": "056ea71d-4c6c-4ba1-8cea-9da0020caa96",
   "metadata": {},
   "source": [
    "In order to differentiate the workflow every time you run this cell or the full notebook we are going to add a date string to the workflow name. This string has the form: `yyyymmddhhmmss`."
   ]
  },
  {
   "cell_type": "code",
   "execution_count": 7,
   "id": "edf4f037-6502-45ba-b239-d769ee93f94a",
   "metadata": {},
   "outputs": [],
   "source": [
    "import datetime as dt"
   ]
  },
  {
   "cell_type": "code",
   "execution_count": 8,
   "id": "b0d3e6f7-1cb5-48d9-8e86-1c6df9a235d3",
   "metadata": {},
   "outputs": [],
   "source": [
    "now_str = dt.datetime.now().strftime(\"%Y%m%d%H%M%S\")"
   ]
  },
  {
   "cell_type": "code",
   "execution_count": 9,
   "id": "09b44a2d-6693-47aa-b33c-b9f78d575f0f",
   "metadata": {},
   "outputs": [
    {
     "name": "stderr",
     "output_type": "stream",
     "text": [
      "2021-05-11 00:52:40,347 - Created new workflow: 9bd03113-cecb-45fa-9f19-72dd2faef51d\n"
     ]
    }
   ],
   "source": [
    "workflow = project.create_workflow(\"S2 Analytic for scaling up indexes\" + \"-\" + now_str)"
   ]
  },
  {
   "cell_type": "code",
   "execution_count": 10,
   "id": "886bbcb2-888e-4ae4-a022-290f4ea8ba52",
   "metadata": {},
   "outputs": [
    {
     "name": "stderr",
     "output_type": "stream",
     "text": [
      "2021-05-11 00:52:44,368 - Added tasks to workflow: [{'name': 'esa-s2-l2a-gtiff-analytic:1', 'parentName': None, 'blockId': 'e13d8e92-2763-4640-80d6-1501b2729707'}, {'name': 'pansharpen:1', 'parentName': 'esa-s2-l2a-gtiff-analytic:1', 'blockId': '903f0435-d638-475e-bbe9-53b5664a22a8'}]\n"
     ]
    }
   ],
   "source": [
    "workflow.add_workflow_tasks(input_tasks = my_tasks)"
   ]
  },
  {
   "cell_type": "code",
   "execution_count": 11,
   "id": "1b9bb274-38e5-4dee-86e0-e0171969214c",
   "metadata": {},
   "outputs": [],
   "source": [
    "aoi1 = up42.read_vector_file(\"/Users/appa/up42/a4f-2020/crop2cash/lekan_farm_list.geojson\")"
   ]
  },
  {
   "cell_type": "code",
   "execution_count": 12,
   "id": "56b24e18-0f66-4b96-b319-bece564064a4",
   "metadata": {},
   "outputs": [],
   "source": [
    "aoi2 = up42.read_vector_file(\"/Users/appa/up42/a4f-2020/growforme/newfarm.geojson\")"
   ]
  },
  {
   "cell_type": "code",
   "execution_count": 13,
   "id": "b5a7c294-35b0-4d8b-afd6-c90e1d81919a",
   "metadata": {},
   "outputs": [],
   "source": [
    "aoi3 = up42.read_vector_file(\"/Users/appa/up42/a4f-2020/hehe/Juliet.geojson\")"
   ]
  },
  {
   "cell_type": "code",
   "execution_count": 14,
   "id": "3f8dbf09-1572-4b12-8f8f-3e6e65cb7203",
   "metadata": {},
   "outputs": [],
   "source": [
    "job_params = workflow.construct_parameters(geometry=aoi2, limit = 2, geometry_operation = \"intersects\")"
   ]
  },
  {
   "cell_type": "code",
   "execution_count": 15,
   "id": "df3e7da7-b110-4cd9-a5b8-fea134c585e0",
   "metadata": {},
   "outputs": [
    {
     "data": {
      "text/plain": [
       "{'esa-s2-l2a-gtiff-analytic:1': {'time': '2018-12-01T00:00:00+00:00/2021-12-31T23:59:59+00:00',\n",
       "  'limit': 2,\n",
       "  'max_cloud_cover': 100,\n",
       "  'intersects': {'type': 'Polygon',\n",
       "   'coordinates': (((-0.370332934, 9.5399165712),\n",
       "     (-0.3703225404, 9.5399013162),\n",
       "     (-0.3702095523, 9.5397178363),\n",
       "     (-0.3701552376, 9.5395197719),\n",
       "     (-0.3701060358, 9.5393981505),\n",
       "     (-0.3700596839, 9.5393372979),\n",
       "     (-0.369987851, 9.539319193),\n",
       "     (-0.3699849173, 9.5392604358),\n",
       "     (-0.370032778, 9.539225148),\n",
       "     (-0.3699652199, 9.5389443543),\n",
       "     (-0.3698068857, 9.5388172846),\n",
       "     (-0.3697644733, 9.5387929771),\n",
       "     (-0.3696550056, 9.5385682583),\n",
       "     (-0.3694897145, 9.538446134),\n",
       "     (-0.3693311289, 9.5383158792),\n",
       "     (-0.3690511733, 9.5383276977),\n",
       "     (-0.3687391989, 9.5383359957),\n",
       "     (-0.3686443157, 9.5383379236),\n",
       "     (-0.368376011, 9.5383129455),\n",
       "     (-0.3682077862, 9.5383382589),\n",
       "     (-0.3682237118, 9.5384480618),\n",
       "     (-0.3682290763, 9.5384723693),\n",
       "     (-0.3681885079, 9.5385884587),\n",
       "     (-0.3682367876, 9.5387104992),\n",
       "     (-0.3682165872, 9.5389798097),\n",
       "     (-0.3682427388, 9.539223304),\n",
       "     (-0.3682505339, 9.5394033473),\n",
       "     (-0.3682821337, 9.5394346956),\n",
       "     (-0.368250031, 9.5394772757),\n",
       "     (-0.368191693, 9.5394735038),\n",
       "     (-0.3680318501, 9.5395200234),\n",
       "     (-0.368058756, 9.5396584924),\n",
       "     (-0.3680771962, 9.5397115499),\n",
       "     (-0.3680690657, 9.5399304014),\n",
       "     (-0.3680792917, 9.5399577264),\n",
       "     (-0.3681298345, 9.5399863925),\n",
       "     (-0.3684286494, 9.5400320739),\n",
       "     (-0.3686590679, 9.5400535315),\n",
       "     (-0.3689187393, 9.5400625002),\n",
       "     (-0.3692017961, 9.5400509331),\n",
       "     (-0.3694668319, 9.540038025),\n",
       "     (-0.3698088974, 9.5400373545),\n",
       "     (-0.3700882662, 9.5400087722),\n",
       "     (-0.370398229, 9.5399709698),\n",
       "     (-0.3704124782, 9.5399440639),\n",
       "     (-0.3704100475, 9.5399344247),\n",
       "     (-0.370332934, 9.5399165712)),)}},\n",
       " 'pansharpen:1': {'method': 'SFIM',\n",
       "  'clip_to_aoi': False,\n",
       "  'include_pan': False}}"
      ]
     },
     "execution_count": 15,
     "metadata": {},
     "output_type": "execute_result"
    }
   ],
   "source": [
    "job_params"
   ]
  },
  {
   "cell_type": "code",
   "execution_count": 16,
   "id": "ed48e7f9-d472-4686-b70b-916afe89bf2f",
   "metadata": {},
   "outputs": [
    {
     "name": "stderr",
     "output_type": "stream",
     "text": [
      "2021-05-11 00:52:45,333 - Selected input_parameters: {'esa-s2-l2a-gtiff-analytic:1': {'time': '2018-12-01T00:00:00+00:00/2021-12-31T23:59:59+00:00', 'limit': 2, 'max_cloud_cover': 100, 'intersects': {'type': 'Polygon', 'coordinates': (((-0.370332934, 9.5399165712), (-0.3703225404, 9.5399013162), (-0.3702095523, 9.5397178363), (-0.3701552376, 9.5395197719), (-0.3701060358, 9.5393981505), (-0.3700596839, 9.5393372979), (-0.369987851, 9.539319193), (-0.3699849173, 9.5392604358), (-0.370032778, 9.539225148), (-0.3699652199, 9.5389443543), (-0.3698068857, 9.5388172846), (-0.3697644733, 9.5387929771), (-0.3696550056, 9.5385682583), (-0.3694897145, 9.538446134), (-0.3693311289, 9.5383158792), (-0.3690511733, 9.5383276977), (-0.3687391989, 9.5383359957), (-0.3686443157, 9.5383379236), (-0.368376011, 9.5383129455), (-0.3682077862, 9.5383382589), (-0.3682237118, 9.5384480618), (-0.3682290763, 9.5384723693), (-0.3681885079, 9.5385884587), (-0.3682367876, 9.5387104992), (-0.3682165872, 9.5389798097), (-0.3682427388, 9.539223304), (-0.3682505339, 9.5394033473), (-0.3682821337, 9.5394346956), (-0.368250031, 9.5394772757), (-0.368191693, 9.5394735038), (-0.3680318501, 9.5395200234), (-0.368058756, 9.5396584924), (-0.3680771962, 9.5397115499), (-0.3680690657, 9.5399304014), (-0.3680792917, 9.5399577264), (-0.3681298345, 9.5399863925), (-0.3684286494, 9.5400320739), (-0.3686590679, 9.5400535315), (-0.3689187393, 9.5400625002), (-0.3692017961, 9.5400509331), (-0.3694668319, 9.540038025), (-0.3698088974, 9.5400373545), (-0.3700882662, 9.5400087722), (-0.370398229, 9.5399709698), (-0.3704124782, 9.5399440639), (-0.3704100475, 9.5399344247), (-0.370332934, 9.5399165712)),)}}, 'pansharpen:1': {'method': 'SFIM', 'clip_to_aoi': False, 'include_pan': False}}\n",
      "2021-05-11 00:52:50,386 - Created and running new job: a691fec6-0979-499a-8423-0235777bb7ee.\n",
      "2021-05-11 00:52:50,932 - Tracking job status continuously, reporting every 30 seconds...\n",
      "2021-05-11 00:53:25,107 - Job is RUNNING! - a691fec6-0979-499a-8423-0235777bb7ee\n",
      "2021-05-11 00:53:58,629 - Job is RUNNING! - a691fec6-0979-499a-8423-0235777bb7ee\n",
      "2021-05-11 00:54:31,927 - Job is RUNNING! - a691fec6-0979-499a-8423-0235777bb7ee\n",
      "2021-05-11 00:55:05,424 - Job is RUNNING! - a691fec6-0979-499a-8423-0235777bb7ee\n",
      "2021-05-11 00:55:38,777 - Job is RUNNING! - a691fec6-0979-499a-8423-0235777bb7ee\n",
      "2021-05-11 00:56:13,106 - Job is RUNNING! - a691fec6-0979-499a-8423-0235777bb7ee\n",
      "2021-05-11 00:56:24,269 - Job finished successfully! - a691fec6-0979-499a-8423-0235777bb7ee\n"
     ]
    }
   ],
   "source": [
    "real_job = workflow.run_job(input_parameters = job_params, track_status = True)"
   ]
  },
  {
   "cell_type": "markdown",
   "id": "287c3102-fc7c-4585-8c50-5139c5be6457",
   "metadata": {},
   "source": [
    "### Create the output directory \n",
    "\n",
    "No need to do that if the directory the files will be outputed already exists."
   ]
  },
  {
   "cell_type": "code",
   "execution_count": 17,
   "id": "6df86777-48a5-4feb-bae4-423aa0b30835",
   "metadata": {},
   "outputs": [],
   "source": [
    "%%bash\n",
    "\n",
    "mkdir -p /Users/appa/up42/a4f-2020/growforme/s2-test"
   ]
  },
  {
   "cell_type": "code",
   "execution_count": 18,
   "id": "3cffbfe7-6eda-4be0-919d-5f56bee25f81",
   "metadata": {},
   "outputs": [
    {
     "name": "stderr",
     "output_type": "stream",
     "text": [
      "2021-05-11 00:56:29,381 - Downloading results of job a691fec6-0979-499a-8423-0235777bb7ee\n",
      "2021-05-11 00:56:29,386 - Download directory: /Users/appa/up42/a4f-2020/growforme/s2-test\n",
      "20it [00:00, 21670.39it/s]\n",
      "2021-05-11 00:56:30,453 - Download successful of 3 files to output_directory '/Users/appa/up42/a4f-2020/growforme/s2-test': ['S2B_30PYR_20210501_0_L2A_pan.tif', 'data.json', 'S2A_30PYR_20210506_0_L2A_pan.tif']\n"
     ]
    },
    {
     "data": {
      "text/plain": [
       "['/Users/appa/up42/a4f-2020/growforme/s2-test/S2B_30PYR_20210501_0_L2A/S2B_30PYR_20210501_0_L2A_pan.tif',\n",
       " '/Users/appa/up42/a4f-2020/growforme/s2-test/data.json',\n",
       " '/Users/appa/up42/a4f-2020/growforme/s2-test/S2A_30PYR_20210506_0_L2A/S2A_30PYR_20210506_0_L2A_pan.tif']"
      ]
     },
     "execution_count": 18,
     "metadata": {},
     "output_type": "execute_result"
    }
   ],
   "source": [
    "my_outdir=\"/Users/appa/up42/a4f-2020/growforme/s2-test\"\n",
    "real_job.download_results(output_directory = my_outdir)"
   ]
  },
  {
   "cell_type": "markdown",
   "id": "83982826-2a70-41eb-b2e0-958f4aa74a20",
   "metadata": {},
   "source": [
    "## Computing the indexes\n",
    "\n",
    "There are several caveats to pay attention to:\n",
    "\n",
    " 1. We are using a Python script `gdal_calc-py` inside a notebook, that is inside a Python environment. \n",
    "    Hence I need to pass the path to `gdal_calc.py`, in this case `/usr/local/bin`.\n",
    " 2. The most important thing to remember is that GDAL is not very user friendly and you can be easily\n",
    "    tripped by _obvious_ mistakes. Usually such mistakes are the hardest to find, because they are so simple\n",
    "    you never considered them. Specifically computing the indexes since some indexes (e.g., EVI, ARVI) do\n",
    "    multiplications overflows are easily generated. So you should **always** specify the output data type.\n",
    "\n",
    "### Choosing an output data type for `gdal_calc`\n",
    "\n",
    "First we see what data types we have using [gdalinfo]9.  "
   ]
  },
  {
   "cell_type": "code",
   "execution_count": 19,
   "id": "384b5c39-0810-4b6e-8d5a-abb37a3c4593",
   "metadata": {},
   "outputs": [
    {
     "name": "stdout",
     "output_type": "stream",
     "text": [
      "UInt16\n",
      "UInt16\n",
      "UInt16\n",
      "UInt16\n",
      "UInt16\n",
      "UInt16\n",
      "UInt16\n",
      "UInt16\n",
      "UInt16\n",
      "UInt16\n",
      "UInt16\n",
      "UInt16\n"
     ]
    }
   ],
   "source": [
    "%%bash\n",
    "\n",
    "OUTDIR=/Users/appa/up42/a4f-2020/growforme/s2-test/S2A_30PYR_20210506_0_L2A/\n",
    "\n",
    "gdalinfo -json $OUTDIR/S2A_30PYR_20210506_0_L2A_pan.tif | jq -r '.bands[].type'"
   ]
  },
  {
   "cell_type": "markdown",
   "id": "782193b1-9155-4e54-90fd-0ad3926483f4",
   "metadata": {},
   "source": [
    "As we can see the reflectance values for **all** the bands are represented as a [16 bit unsigned integer](https://en.wikipedia.org/wiki/Integer_(computer_science)#Common_integral_data_types). Now if we look at the formulas for EVI and ARVI, for example, we can see that some of the bands are multiplied by values bigger than 1. This is can create data type overflows. We need to take that into consideration.\n",
    "\n",
    "\n",
    "Since the data type we have for input is UInt16 and the multiplications we are doing are _**promoting**_ the results to be a 32 bit floating point number we need to specify the data type `Float32` as the ouptut data type.  "
   ]
  },
  {
   "cell_type": "markdown",
   "id": "3382b2cd-489b-460d-8bef-6db26962aa0a",
   "metadata": {},
   "source": [
    "### Compute NDVI, EVI, ARVI and SAVI\n",
    "\n",
    "Since the image we get is pansharpaned and all the bands are combined we need to be able to select the right bands for the computation. Here are the bands for Sentinel 2 (cf. [Sentinel 2 MSI](https://sentinel.esa.int/web/sentinel/technical-guides/sentinel-2-msi/msi-instrument)).\n",
    "\n",
    "\n",
    "| Band Category | Spatial Resolution | Revisit |\n",
    "|:---|:---|:---|\n",
    "| Visible (4)          | 10 m | 5 days |\n",
    "| Near-Infrared (6)    | 20 m | 5 days |\n",
    "| Short-wave IR (3)    | 60 m | 5 days |\n",
    "\n",
    "\n",
    "| Name | Resolution | Description |\n",
    "|:---|:---:|:---|\n",
    "| B01  | 60 m | Coastal aerosol, 442.7 nm (S2A), 442.2 nm (S2B)    |\n",
    "| B02  | 10 m | Blue, 492.4 nm (S2A), 492.1 nm (S2B)               |\n",
    "| B03  | 10 m | Green, 559.8 nm (S2A), 559.0 nm (S2B)              |\n",
    "| B04  | 10 m | Red, 664.6 nm (S2A), 664.9 nm (S2B)                |\n",
    "| B05  | 20 m | Vegetation red edge, 704.1 nm (S2A), 703.8 nm (S2B)|\n",
    "| B06  | 20 m |\tVegetation red edge, 740.5 nm (S2A), 739.1 nm (S2B)|\n",
    "| B07  | 20 m | Vegetation red edge, 782.8 nm (S2A), 779.7 nm (S2B)|\n",
    "| B08  | 10 m | NIR, 832.8 nm (S2A), 832.9 nm (S2B)                |\n",
    "| B8A  | 20 m | Narrow NIR, 864.7 nm (S2A), 864.0 nm (S2B)         |\n",
    "| B09  | 60 m | Water vapour, 945.1 nm (S2A), 943.2 nm (S2B)       |\n",
    "| B10  | 60 m | SWIR – Cirrus, 1373.5 nm (S2A), 1376.9 nm (S2B)    |\n",
    "| B11  | 20 m | SWIR, 1613.7 nm (S2A), 442.2 nm (S2B)              |\n",
    "| B12  | 20 m | SWIR, 2202.4 nm (S2A), 442.2 nm (S2B)              |\n",
    "\n",
    "\n",
    " * For **NDVI** we need bands **4 (Red)** and **8 (NIR)**.\n",
    " * For **EVI** and **ARVI** we also need band **2 (Blue)**."
   ]
  },
  {
   "cell_type": "markdown",
   "id": "7bd9c5f4-a5b2-4dec-989f-7b5d9f8b2b2b",
   "metadata": {},
   "source": [
    "Note that here we are computing indexes for the **two** images we retrieved two above. Is quite easy to loop on the directories, looking for the files with a name pattern like `S2*_pan.tif`."
   ]
  },
  {
   "cell_type": "code",
   "execution_count": 20,
   "id": "15ddc3c7-ad43-4427-8904-f9e405bd5f96",
   "metadata": {},
   "outputs": [
    {
     "name": "stdout",
     "output_type": "stream",
     "text": [
      "S2A_30PYR_20210506_0_L2A\n",
      "S2B_30PYR_20210501_0_L2A\n",
      "data.json\n"
     ]
    }
   ],
   "source": [
    "%%bash\n",
    "\n",
    "# Create a shell variable with the output directory. \n",
    "# This could all be avoided if the notebook was running on the output directory.\n",
    "OUTDIR=/Users/appa/up42/a4f-2020/growforme/s2-test\n",
    "\n",
    "ls $OUTDIR"
   ]
  },
  {
   "cell_type": "markdown",
   "id": "366981f2-6e62-4183-98ae-dccfd6a25832",
   "metadata": {},
   "source": [
    "There is a single file. Let us compute the 4 vegetation indexes above. \n",
    "\n",
    "#### NDVI"
   ]
  },
  {
   "cell_type": "code",
   "execution_count": 21,
   "id": "d220a8ec-bce5-4349-9ba9-19380edb1c70",
   "metadata": {},
   "outputs": [
    {
     "name": "stdout",
     "output_type": "stream",
     "text": [
      "0.. 100 - Done\n",
      "0.. 100 - Done\n"
     ]
    },
    {
     "name": "stderr",
     "output_type": "stream",
     "text": [
      "<string>:1: RuntimeWarning: invalid value encountered in true_divide\n",
      "<string>:1: RuntimeWarning: invalid value encountered in true_divide\n"
     ]
    }
   ],
   "source": [
    "%%bash\n",
    "\n",
    "OUTDIR=/Users/appa/up42/a4f-2020/growforme/s2-test/\n",
    "\n",
    "# Looping on all the files.\n",
    "for i in $(find $OUTDIR -type f -name 'S2*_pan.tif' -print); do\n",
    "    # PATH needs to be passed to locate the script and the Python modules (osgeo) needed by gdal_calc.\n",
    "    PATH=/usr/local/bin gdal_calc.py \\\n",
    "        -A $i --A_band=8 \\\n",
    "        -B $i --B_band=4 \\\n",
    "        --outfile=$(dirname $i)/NDVI_$(basename $i) \\\n",
    "        --calc=\"A-B/(A+B)\" --overwrite \\\n",
    "        --type=Float32 --NoData=0\n",
    "done"
   ]
  },
  {
   "cell_type": "code",
   "execution_count": 22,
   "id": "02a34a18-bc19-45a6-96af-6faf742b3f1d",
   "metadata": {},
   "outputs": [
    {
     "name": "stdout",
     "output_type": "stream",
     "text": [
      "S2A_30PYR_20210506_0_L2A\n",
      "S2B_30PYR_20210501_0_L2A\n",
      "data.json\n",
      "\n",
      "/Users/appa/up42/a4f-2020/growforme/s2-test//S2A_30PYR_20210506_0_L2A:\n",
      "NDVI_S2A_30PYR_20210506_0_L2A_pan.tif\n",
      "S2A_30PYR_20210506_0_L2A_pan.tif\n",
      "\n",
      "/Users/appa/up42/a4f-2020/growforme/s2-test//S2B_30PYR_20210501_0_L2A:\n",
      "NDVI_S2B_30PYR_20210501_0_L2A_pan.tif\n",
      "S2B_30PYR_20210501_0_L2A_pan.tif\n"
     ]
    }
   ],
   "source": [
    "%%bash\n",
    "\n",
    "OUTDIR=/Users/appa/up42/a4f-2020/growforme/s2-test/\n",
    "\n",
    "ls -R $OUTDIR"
   ]
  },
  {
   "cell_type": "markdown",
   "id": "4d4d8787-7a0f-47fa-82d5-b67f4aca7a5a",
   "metadata": {},
   "source": [
    "Let us plot the NDVI output."
   ]
  },
  {
   "cell_type": "code",
   "execution_count": 23,
   "id": "1703fff9-edcb-4247-8689-22ddeae97a0b",
   "metadata": {},
   "outputs": [],
   "source": [
    "import rasterio as rio"
   ]
  },
  {
   "cell_type": "code",
   "execution_count": 24,
   "id": "b53fd25f-0dc0-409e-a753-31bc083f91b8",
   "metadata": {},
   "outputs": [],
   "source": [
    "from pathlib import Path"
   ]
  },
  {
   "cell_type": "code",
   "execution_count": 25,
   "id": "9ad81348-4013-434d-92ff-4e6444df0d1d",
   "metadata": {},
   "outputs": [
    {
     "data": {
      "image/png": "[encoded data removed]",
      "text/plain": [
       "<Figure size 432x288 with 1 Axes>"
      ]
     },
     "metadata": {
      "needs_background": "light"
     },
     "output_type": "display_data"
    },
    {
     "data": {
      "image/png": "[encoded data removed]",
      "text/plain": [
       "<Figure size 432x288 with 1 Axes>"
      ]
     },
     "metadata": {
      "needs_background": "light"
     },
     "output_type": "display_data"
    },
    {
     "data": {
      "text/plain": [
       "[<AxesSubplot:title={'center':'/Users/appa/up42/a4f-2020/growforme/s2-test/S2B_30PYR_20210501_0_L2A/NDVI_S2B_30PYR_20210501_0_L2A_pan.tif'}>,\n",
       " <AxesSubplot:title={'center':'/Users/appa/up42/a4f-2020/growforme/s2-test/S2A_30PYR_20210506_0_L2A/NDVI_S2A_30PYR_20210506_0_L2A_pan.tif'}>]"
      ]
     },
     "execution_count": 25,
     "metadata": {},
     "output_type": "execute_result"
    }
   ],
   "source": [
    "[rio.plot.show(rio.open(fn), title = fn) for fn in [f\"{v}\" for v in Path(my_outdir).glob(\"**/NDVI_*\")]]"
   ]
  },
  {
   "cell_type": "markdown",
   "id": "c44142e7-b967-439a-bb57-c153031b63ca",
   "metadata": {},
   "source": [
    "#### EVI"
   ]
  },
  {
   "cell_type": "code",
   "execution_count": 26,
   "id": "6f117606-041a-4ef6-a1e2-c24f4c369659",
   "metadata": {},
   "outputs": [
    {
     "name": "stdout",
     "output_type": "stream",
     "text": [
      "0.. 100 - Done\n",
      "0.. 100 - Done\n"
     ]
    }
   ],
   "source": [
    "%%bash\n",
    "\n",
    "OUTDIR=/Users/appa/up42/a4f-2020/growforme/s2-test/\n",
    "\n",
    "# Looping on all the files.\n",
    "for i in $(find $OUTDIR -type f -name 'S2*_pan.tif' -print); do\n",
    "    # PATH needs to be passed to locate the script and the Python modules (osgeo) needed by gdal_calc.\n",
    "    PATH=/usr/local/bin gdal_calc.py \\\n",
    "        -A $i --A_band=8 \\\n",
    "        -B $i --B_band=4 \\\n",
    "        -C $i --C_band=2 \\\n",
    "        --outfile=$(dirname $i)/EVI_$(basename $i) \\\n",
    "        --calc=\"2.5*(A-B)/(A+6*B-7.5*C+1)\" --overwrite \\\n",
    "        --type=Float32 --NoData=0\n",
    "done"
   ]
  },
  {
   "cell_type": "code",
   "execution_count": 27,
   "id": "6cd01e50-c59f-4656-8da5-ab30c43c3024",
   "metadata": {},
   "outputs": [
    {
     "data": {
      "image/png": "[encoded data removed]",
      "text/plain": [
       "<Figure size 432x288 with 1 Axes>"
      ]
     },
     "metadata": {
      "needs_background": "light"
     },
     "output_type": "display_data"
    },
    {
     "data": {
      "image/png": "[encoded data removed]",
      "text/plain": [
       "<Figure size 432x288 with 1 Axes>"
      ]
     },
     "metadata": {
      "needs_background": "light"
     },
     "output_type": "display_data"
    },
    {
     "data": {
      "text/plain": [
       "[<AxesSubplot:title={'center':'/Users/appa/up42/a4f-2020/growforme/s2-test/S2B_30PYR_20210501_0_L2A/EVI_S2B_30PYR_20210501_0_L2A_pan.tif'}>,\n",
       " <AxesSubplot:title={'center':'/Users/appa/up42/a4f-2020/growforme/s2-test/S2A_30PYR_20210506_0_L2A/EVI_S2A_30PYR_20210506_0_L2A_pan.tif'}>]"
      ]
     },
     "execution_count": 27,
     "metadata": {},
     "output_type": "execute_result"
    }
   ],
   "source": [
    "[rio.plot.show(rio.open(fn), title = fn) for fn in [f\"{v}\" for v in Path(my_outdir).glob(\"**/EVI_*\")]]"
   ]
  },
  {
   "cell_type": "markdown",
   "id": "650642fa-fcbd-440b-8605-5bcf98ccb3ae",
   "metadata": {},
   "source": [
    "### ARVI"
   ]
  },
  {
   "cell_type": "code",
   "execution_count": 28,
   "id": "38d96a59-bc35-40b9-a3d9-9e7866d78414",
   "metadata": {},
   "outputs": [
    {
     "name": "stdout",
     "output_type": "stream",
     "text": [
      "0.. 100 - Done\n",
      "0.. 100 - Done\n"
     ]
    },
    {
     "name": "stderr",
     "output_type": "stream",
     "text": [
      "<string>:1: RuntimeWarning: invalid value encountered in true_divide\n",
      "<string>:1: RuntimeWarning: invalid value encountered in true_divide\n"
     ]
    }
   ],
   "source": [
    "%%bash\n",
    "\n",
    "OUTDIR=/Users/appa/up42/a4f-2020/growforme/s2-test/\n",
    "\n",
    "# Looping on all the files.\n",
    "for i in $(find $OUTDIR -type f -name 'S2*_pan.tif' -print); do\n",
    "    # PATH needs to be passed to locate the script and the Python modules (osgeo) needed by gdal_calc.\n",
    "    PATH=/usr/local/bin gdal_calc.py \\\n",
    "        -A $i --A_band=8 \\\n",
    "        -B $i --B_band=4 \\\n",
    "        -C $i --C_band=2 \\\n",
    "        --outfile=$(dirname $i)/ARVI_$(basename $i) \\\n",
    "        --calc=\"(A-2*B+C)/(A+2*B+C)\" --overwrite \\\n",
    "        --type=Float32 --NoData=0\n",
    "done"
   ]
  },
  {
   "cell_type": "code",
   "execution_count": 29,
   "id": "6bdb8a8b-1fb2-4667-8611-9124df24cf18",
   "metadata": {},
   "outputs": [
    {
     "data": {
      "image/png": "[encoded data removed]",
      "text/plain": [
       "<Figure size 432x288 with 1 Axes>"
      ]
     },
     "metadata": {
      "needs_background": "light"
     },
     "output_type": "display_data"
    },
    {
     "data": {
      "image/png": "[encoded data removed]",
      "text/plain": [
       "<Figure size 432x288 with 1 Axes>"
      ]
     },
     "metadata": {
      "needs_background": "light"
     },
     "output_type": "display_data"
    },
    {
     "data": {
      "text/plain": [
       "[<AxesSubplot:title={'center':'/Users/appa/up42/a4f-2020/growforme/s2-test/S2B_30PYR_20210501_0_L2A/ARVI_S2B_30PYR_20210501_0_L2A_pan.tif'}>,\n",
       " <AxesSubplot:title={'center':'/Users/appa/up42/a4f-2020/growforme/s2-test/S2A_30PYR_20210506_0_L2A/ARVI_S2A_30PYR_20210506_0_L2A_pan.tif'}>]"
      ]
     },
     "execution_count": 29,
     "metadata": {},
     "output_type": "execute_result"
    }
   ],
   "source": [
    "[rio.plot.show(rio.open(fn), title = fn) for fn in [f\"{v}\" for v in Path(my_outdir).glob(\"**/ARVI_*\")]]"
   ]
  },
  {
   "cell_type": "markdown",
   "id": "3a6d6b24-268f-43fa-931e-a59d735cbe01",
   "metadata": {},
   "source": [
    "### SAVI"
   ]
  },
  {
   "cell_type": "code",
   "execution_count": 30,
   "id": "35f292d0-01bd-47ef-ad38-27e4e5b8fdc3",
   "metadata": {},
   "outputs": [
    {
     "name": "stdout",
     "output_type": "stream",
     "text": [
      "0.. 100 - Done\n",
      "0.. 100 - Done\n"
     ]
    }
   ],
   "source": [
    "%%bash\n",
    "\n",
    "OUTDIR=/Users/appa/up42/a4f-2020/growforme/s2-test/\n",
    "\n",
    "# Looping on all the files.\n",
    "for i in $(find $OUTDIR -type f -name 'S2*_pan.tif' -print); do\n",
    "    # PATH needs to be passed to locate the script and the Python modules (osgeo) needed by gdal_calc.\n",
    "    PATH=/usr/local/bin gdal_calc.py \\\n",
    "        -A $i --A_band=8 \\\n",
    "        -B $i --B_band=4 \\\n",
    "        --outfile=$(dirname $i)/SAVI_$(basename $i) \\\n",
    "        --calc=\"1.5*(A-B)/(A+B+0.5)\" --overwrite \\\n",
    "        --type=Float32 --NoData=0\n",
    "done"
   ]
  },
  {
   "cell_type": "code",
   "execution_count": 31,
   "id": "4320fea1-1f05-4417-99d9-cc34f7f32387",
   "metadata": {},
   "outputs": [
    {
     "data": {
      "image/png": "[encoded data removed]",
      "text/plain": [
       "<Figure size 432x288 with 1 Axes>"
      ]
     },
     "metadata": {
      "needs_background": "light"
     },
     "output_type": "display_data"
    },
    {
     "data": {
      "image/png": "[encoded data removed]",
      "text/plain": [
       "<Figure size 432x288 with 1 Axes>"
      ]
     },
     "metadata": {
      "needs_background": "light"
     },
     "output_type": "display_data"
    },
    {
     "data": {
      "text/plain": [
       "[<AxesSubplot:title={'center':'/Users/appa/up42/a4f-2020/growforme/s2-test/S2B_30PYR_20210501_0_L2A/SAVI_S2B_30PYR_20210501_0_L2A_pan.tif'}>,\n",
       " <AxesSubplot:title={'center':'/Users/appa/up42/a4f-2020/growforme/s2-test/S2A_30PYR_20210506_0_L2A/SAVI_S2A_30PYR_20210506_0_L2A_pan.tif'}>]"
      ]
     },
     "execution_count": 31,
     "metadata": {},
     "output_type": "execute_result"
    }
   ],
   "source": [
    "[rio.plot.show(rio.open(fn), title = fn) for fn in [f\"{v}\" for v in Path(my_outdir).glob(\"**/SAVI_*\")]]"
   ]
  },
  {
   "cell_type": "code",
   "execution_count": null,
   "id": "8f5ecd59-9772-4621-a083-05ada940a132",
   "metadata": {},
   "outputs": [],
   "source": []
  }
 ],
 "metadata": {
  "kernelspec": {
   "display_name": "Python 3",
   "language": "python",
   "name": "python3"
  },
  "language_info": {
   "codemirror_mode": {
    "name": "ipython",
    "version": 3
   },
   "file_extension": ".py",
   "mimetype": "text/x-python",
   "name": "python",
   "nbconvert_exporter": "python",
   "pygments_lexer": "ipython3",
   "version": "3.9.4"
  }
 },
 "nbformat": 4,
 "nbformat_minor": 5
}
