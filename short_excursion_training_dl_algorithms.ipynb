{
 "cells": [
  {
   "cell_type": "markdown",
   "id": "79bac6eb-393c-4025-bc22-d8ce47ad7ab4",
   "metadata": {},
   "source": [
    "# A short excursion into training Deep Learning algorithms with applications to remote sensing\n",
    "\n",
    "## Abstract\n",
    "\n",
    "This notebook is not so much about doing code but rather about guiding you through understanding Deep Learning\n",
    "in a way that you can approach training a given algorithm with the assurance that you compreehend what is \n",
    "going on. There are no silver bullets and a one-size-fits-all approaches.\n",
    "\n",
    "The algorithm needs to fit your problem first. To do that you need to understand the data.  Only then you come into the training. This is where you turns the knobs in such way that you either validate or falsify your hypothesis when you selected the algorithm."
   ]
  },
  {
   "cell_type": "markdown",
   "id": "2f4692c6-509f-4f60-b62e-4febffe9bd8a",
   "metadata": {},
   "source": [
    "## Approaching the problem: a recipe\n",
    "\n",
    "In the beginning there is the problem that you want to solve. Be it image classification, image super-resolution,\n",
    "image augmentation, or analysing a physical phenomena represented in an image, like, for example a crop. Monitoring the crop health and even predicting the yield. The approach is always like this:\n",
    "\n",
    " 1. Get familiar with the data. Correlate data from remote sensing with in field data.\n",
    " 2. Choose a model selecting just a few of variables, e.g., humidity in the soil and an index like EVI or NDVI.\n",
    " 3. One time setup of:\n",
    "   + activation functions;\n",
    "   + data preprocessing;\n",
    "   + weight initialization;\n",
    "   + regularization - to prevent overfitting.\n",
    " 4. Training dynamics:\n",
    "   + learning rate schedules;\n",
    "   + large batch training;\n",
    "   + hyper-parameter optimization.\n",
    " 5. After training:\n",
    "   + model ensembles;\n",
    "   + transfer learning.\n",
    "   \n",
    "The choice of an algorithm (model) determines to a great extent what can be done in each step described above."
   ]
  },
  {
   "cell_type": "markdown",
   "id": "0156b87b-295a-4d0b-a29b-a7f2803e6520",
   "metadata": {},
   "source": [
    "## A detour through universal approximation\n",
    "\n",
    "A neural network can be understood as a mechanism to create a set of (hyper)parameters that are used in a representation of a given function. In fact there is a theorem that proves it. Familiarity with Functional Analysis and Function Spaces is required to follow such a [proof](https://link.springer.com/content/pdf/10.1007/s10472-020-09723-1.pdf). A _graphical proof_ can be found [here](http://neuralnetworksanddeeplearning.com/chap4.html).\n",
    "\n",
    "Neural Networks are a way to derive approximations to functions that represent phenomena or features of the world we are interested in. The _magic_ of neural networks resides in the fact that these approximations can be derived by a computer just by feeding in the correct amount of data. If your problem is amenable to being mathematically modeled then you can inform the model by including specific information about this mathematical model into the structure of the network. This approach to machine learning is called [Scientific Machine Learning](https://www.scientific-ml.com).\n",
    "\n",
    "The use of this physical model makes it so that training can be done with much less data, since we are already providing information in the form of the mathematical model.\n",
    "\n",
    "The later could be relevant for applications like crop yield prediction, since crops can be [modeled](https://www.sciencedirect.com/science/article/pii/B9780444525123002333)."
   ]
  },
  {
   "cell_type": "markdown",
   "id": "2ef903c1-87d7-490e-b863-88a42576214c",
   "metadata": {},
   "source": [
    "## Diving into our example\n",
    "\n",
    "It would be impossible to do a full discussion with examples in the time we have. Instead we are going to dive into the code and show you on a practical example how we implemented a Sentinel 2 Super-resolution algorithm based on [Super-Resolution of Sentinel-2 Images: Learning a Globally Applicable Deep Neural Network](https://arxiv.org/abs/1803.04271). The resulting images are such that all bands are now at **10 m** resolution.\n",
    "\n",
    "| Band Category | Spatial Resolution | Revisit |\n",
    "|:---|:---|:---|\n",
    "| Visible (4)          | 10 m | 5 days |\n",
    "| Near-Infrared (6)    | 20 m | 5 days |\n",
    "| Short-wave IR (3)    | 60 m | 5 days |\n",
    "\n",
    "\n",
    "| Name | Resolution | Description |\n",
    "|:---|:---:|:---|\n",
    "| B01  | 60 m | Coastal aerosol, 442.7 nm (S2A), 442.2 nm (S2B)    |\n",
    "| B02  | 10 m | Blue, 492.4 nm (S2A), 492.1 nm (S2B)               |\n",
    "| B03  | 10 m | Green, 559.8 nm (S2A), 559.0 nm (S2B)              |\n",
    "| B04  | 10 m | Red, 664.6 nm (S2A), 664.9 nm (S2B)                |\n",
    "| B05  | 20 m | Vegetation red edge, 704.1 nm (S2A), 703.8 nm (S2B)|\n",
    "| B06  | 20 m |\tVegetation red edge, 740.5 nm (S2A), 739.1 nm (S2B)|\n",
    "| B07  | 20 m | Vegetation red edge, 782.8 nm (S2A), 779.7 nm (S2B)|\n",
    "| B08  | 10 m | NIR, 832.8 nm (S2A), 832.9 nm (S2B)                |\n",
    "| B8A  | 20 m | Narrow NIR, 864.7 nm (S2A), 864.0 nm (S2B)         |\n",
    "| B09  | 60 m | Water vapour, 945.1 nm (S2A), 943.2 nm (S2B)       |\n",
    "| B10  | 60 m | SWIR – Cirrus, 1373.5 nm (S2A), 1376.9 nm (S2B)    |\n",
    "| B11  | 20 m | SWIR, 1613.7 nm (S2A), 442.2 nm (S2B)              |\n",
    "| B12  | 20 m | SWIR, 2202.4 nm (S2A), 442.2 nm (S2B)              |\n",
    "\n",
    "Although the exact application might differ from the one you have in mind, the way to approach the training process is the same. Some of the techniques used to do **data augmentation** might inspire you do to similarly in your problem.\n",
    "\n",
    "\n",
    "### Model selection\n",
    "\n",
    "The selected model is a [Residual Network](https://arxiv.org/abs/1512.03385) (ResNet). The network has multiple layers where the _initial_ layers performs feature extraction via convolutions with a 3x3 kernel. The layers that follow perform a (residual) scaling ($\\lambda x$)  that regularizes the data. There is a skip connection from the input of the second layer to the output that is added to the output of the residual scaling.\n",
    "\n",
    "Thinking in terms of function approximation, the residual layers with the skip connections function as an _almost_ identity function. This reduces the number of parameters in the model, allowing for deeper networks to be computationally approachable and also preempt overfitting of the model."
   ]
  },
  {
   "cell_type": "markdown",
   "id": "5cf4901b-29c8-4c70-833f-f677334904d1",
   "metadata": {},
   "source": [
    "## Activation functions\n",
    "\n",
    "The chosen activation function is the Rectified Linear Unit (ReLU).\n",
    "\n",
    "$$f(x) = x^+ = \\max(0, x)$$"
   ]
  },
  {
   "cell_type": "code",
   "execution_count": 1,
   "id": "2f1540ea-6458-47b4-8cf1-40715a6b2dfe",
   "metadata": {},
   "outputs": [
    {
     "data": {
      "image/png": "[encoded data removed]",
      "text/plain": [
       "<Figure size 432x288 with 1 Axes>"
      ]
     },
     "metadata": {
      "needs_background": "light"
     },
     "output_type": "display_data"
    }
   ],
   "source": [
    "import numpy as np\n",
    "import matplotlib.pyplot as plt\n",
    "\n",
    "# Define the ReLu function.\n",
    "relu = lambda x: max(0.0, x)\n",
    "\n",
    "# Create the required array of values for the plot.\n",
    "# Grid of 0.1 spacing from -10 to 10.\n",
    "xvals = np.arange(-10, 10, 0.1)\n",
    "yvals = np.array([relu(xi) for xi in xvals])\n",
    "\n",
    "fig = plt.figure()\n",
    "ax = fig.add_subplot(1, 1, 1)\n",
    "# Center the axes.\n",
    "ax.spines['left'].set_position('center')\n",
    "ax.spines['bottom'].set_position('zero')\n",
    "ax.spines['right'].set_color('none')\n",
    "ax.spines['top'].set_color('none')\n",
    "ax.xaxis.set_ticks_position('bottom')\n",
    "ax.yaxis.set_ticks_position('left')\n",
    "\n",
    "# Create line plot with yvals vs xvals.\n",
    "plt.plot(xvals, yvals) \n",
    "plt.show()"
   ]
  },
  {
   "cell_type": "markdown",
   "id": "49f5a18e-e475-4795-a801-002d7c26f6b9",
   "metadata": {},
   "source": [
    "### Data preprocessing\n",
    "\n",
    "Starting from a small set (45) of Sentinel 2 full scenes in MTL ([SAFE](http://earth.esa.int/SAFE/)) format &mdash; one file per band, with rasters being provided in JPEG2000 format. The images in the bands with 10 and 20 m resolutions are **downsampled** to 20 and 40 m respectively. This technique of downsampling creates _synthetic_ images from the real ones.\n",
    "\n",
    "The bands are collected according to their [Ground Sample Distance](https://en.wikipedia.org/wiki/Ground_sample_distance) (GSD) &mdash; informally _resolution &mdash; into three distinct sets:\n",
    "\n",
    "$$ \n",
    "\\begin{eqnarray}\n",
    "A & = & (B2, B3, B4, B8)  &  \\Leftarrow GSD = 10 m\\\\\n",
    "B & = & (B5, B6, B7, B8a, B11, B12) &  \\Leftarrow GSD = 20 m\\\\\n",
    "C & = & (B1, B9) &  \\Leftarrow GSD = 60 m\n",
    "\\end{eqnarray}\n",
    "$$\n",
    "\n",
    "Patches of 32x32 px for super-resolving $B$ to 10 m with information from $A$ and 96x96 px for super-resolving $C$ using information from $A$ and $B$. "
   ]
  },
  {
   "cell_type": "markdown",
   "id": "ccc37468-b51b-4efe-a2cf-dbe632d7cd48",
   "metadata": {},
   "source": [
    "### Weight initialization\n",
    "\n",
    "It uses the He Uniform Initializer, where the initial weights are computed from an uniform distribution related to the number of weights in the input. "
   ]
  },
  {
   "cell_type": "markdown",
   "id": "16a97922-c510-4d70-ae8f-482e11b83404",
   "metadata": {},
   "source": [
    "## Training Dynamics\n",
    "\n",
    "Let us jump into the [code](https://github.com/up42/DSen2) and see the training procedure going in a Google Cloud Platform machine. The framework used is [TensorFlow](https://www.tensorflow.org/)."
   ]
  },
  {
   "cell_type": "markdown",
   "id": "61ec222c-b218-43cc-b569-c15dc980d540",
   "metadata": {},
   "source": [
    "## How to improve this training procedure and, hopefully, the super-resolution algorithm\n",
    "\n",
    "Here are some ideas for improvement:\n",
    "\n",
    " 1. Instead of loading everything into memory we can **stream** the data. See [tf.data.Dataset](https://www.tensorflow.org/api_docs/python/tf/data/Dataset). Thus enabling us to rely on a much smaller machine for training. \n",
    " 2. Instead of creating patches using custom code, take advantage of [tf.image.extract_patches](https://www.tensorflow.org/api_docs/python/tf/image/extract_patches). Also leverage the [raster tiling](https://marketplace.up42.com/block/3e146dd6-2b67-4d6e-a422-bb3d973e32ff) block.\n",
    " 3. Structure the training process using [MFlow](https://mlflow.org)."
   ]
  },
  {
   "cell_type": "markdown",
   "id": "6adf69ad-59c4-403f-9591-627263aef63e",
   "metadata": {},
   "source": [
    "## Resources\n",
    "\n",
    " 1. [A recipe for training neural networks](https://karpathy.github.io/2019/04/25/recipe/): advice from an experienced practicioner.\n",
    " 2. [Neural Networks and Deep Learning](http://neuralnetworksanddeeplearning.com/index.html): a very thorough explanation of neural networks and the (simple) mathematics behind.\n",
    " 3. [Image similarity measures](https://github.com/up42/image-similarity-measures).\n",
    " 4. [Deep Learning for Computer Vision](https://web.eecs.umich.edu/~justincj/teaching/eecs498/FA2019/schedule.html): a very elaborate discussion of Deep Learning in the context of Computer Vision."
   ]
  },
  {
   "cell_type": "code",
   "execution_count": null,
   "id": "15461b1d-1677-4570-a017-db87d5598886",
   "metadata": {},
   "outputs": [],
   "source": []
  }
 ],
 "metadata": {
  "kernelspec": {
   "display_name": "Python 3",
   "language": "python",
   "name": "python3"
  },
  "language_info": {
   "codemirror_mode": {
    "name": "ipython",
    "version": 3
   },
   "file_extension": ".py",
   "mimetype": "text/x-python",
   "name": "python",
   "nbconvert_exporter": "python",
   "pygments_lexer": "ipython3",
   "version": "3.9.5"
  }
 },
 "nbformat": 4,
 "nbformat_minor": 5
}
