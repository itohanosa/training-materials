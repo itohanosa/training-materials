{
{
 "cells": [
 "cells": [
  {
  {
   "cell_type": "markdown",
   "cell_type": "markdown",
   "metadata": {},
   "metadata": {},
   "source": [
   "source": [
    "# A tutorial on retrieving data conditionally on UP42\n",
    "# A tutorial on retrieving data conditionally on UP42\n",
    "\n",
    "\n",
    "## Introduction\n",
    "## Introduction\n",
    "\n",
    "\n",
    "This is a tutorial on how to retrieve data conditionally using [UP42](https://up42.com). On this tutorial we deal with satellite imagery data, but the described procedure is apllicable to **any** type of data.\n",
    "This is a tutorial on how to retrieve data conditionally using [UP42](https://up42.com). On this tutorial we deal with satellite imagery data, but the described procedure is apllicable to **any** type of data.\n",
    "The tutorial, in the form of this Jupyter notebook, relies on the [UP42 Python SDK](https://github.com/up42/up42-py). This SDK enables to quickly create an integration with the UP42 API using Python.\n",
    "The tutorial, in the form of this Jupyter notebook, relies on the [UP42 Python SDK](https://github.com/up42/up42-py). This SDK enables to quickly create an integration with the UP42 API using Python.\n",
    "For further information on using UP42 in general, and the API in particular, please consult the [documentation](https://docs.up42.com).\n",
    "For further information on using UP42 in general, and the API in particular, please consult the [documentation](https://docs.up42.com).\n",
    "\n",
    "\n",
    "It assumes you have an account with UP42 and are minimally familiar with the concepts and terminology used in UP42. \n",
    "It assumes you have an account with UP42 and are minimally familiar with the concepts and terminology used in UP42. \n",
    "If you don't have an account, please go and [create](https://console.up42.com/sign-up) one. Is completely free and additionally you get some free [credits](https://docs.up42.com/FAQ/pricing.html?highlight=credits#what-is-an-up42-credit) to try out UP42 by yourself.\n",
    "If you don't have an account, please go and [create](https://console.up42.com/sign-up) one. Is completely free and additionally you get some free [credits](https://docs.up42.com/FAQ/pricing.html?highlight=credits#what-is-an-up42-credit) to try out UP42 by yourself.\n",
    "\n",
    "\n",
    "## Problem statement\n",
    "## Problem statement\n",
    "\n",
    "\n",
    "We want to search for existing data and check the search results against a _list_ of previously acquired data &mdash; satellite images. This list can be in any format deemed convenient: CSV, key-value store, relational database, etc.\n",
    "We want to search for existing data and check the search results against a _list_ of previously acquired data &mdash; satellite images. This list can be in any format deemed convenient: CSV, key-value store, relational database, etc.\n",
    "For the sake of simplicity here we use a [CSV](https://en.wikipedia.org/wiki/Comma-separated_values) file. CSV files are simple and portable across diverse operating systems. I also makes this tutorial simpler to follow\n",
    "For the sake of simplicity here we use a [CSV](https://en.wikipedia.org/wiki/Comma-separated_values) file. CSV files are simple and portable across diverse operating systems. I also makes this tutorial simpler to follow\n",
    "and reproduce all the steps by yourself. On the other hand CSV files lack anything remotely similar to [SQL](https://en.wikipedia.org/wiki/SQL), which makes the querying of data much simpler than relying on [Pandas](https://pandas.pydata.org/).\n",
    "and reproduce all the steps by yourself. On the other hand CSV files lack anything remotely similar to [SQL](https://en.wikipedia.org/wiki/SQL), which makes the querying of data much simpler than relying on [Pandas](https://pandas.pydata.org/).\n",
    "The advice we can give you is to use CSV if you are familiar with Pandas and/or you image list is not very large. \n",
    "The advice we can give you is to use CSV if you are familiar with Pandas and/or you image list is not very large. \n",
    "If not, or if you have a very large image list, then something like [SQLite](https://en.wikipedia.org/wiki/SQLite) is more appropriate and allows to easily query the image list data set using SQL statements.\n",
    "If not, or if you have a very large image list, then something like [SQLite](https://en.wikipedia.org/wiki/SQLite) is more appropriate and allows to easily query the image list data set using SQL statements.\n",
    "\n",
    "\n",
    "## Install the Python SDK\n",
    "## Install the Python SDK\n",
    "The module is called `up42`. Python **>= 3.7** is **required**.\n",
    "The module is called `up42`. Python **>= 3.7** is **required**.\n",
    "\n",
    "\n",
    " 1. Create a virtual environment.\n",
    " 1. Create a virtual environment.\n",
    "```bash\n",
    "```bash\n",
    " mkvirtualenv --python=$(which python3) up42-py\n",
    " mkvirtualenv --python=$(which python3) up42-py\n",
    "```\n",
    "```\n",
    " 2. Activate the environment.\n",
    " 2. Activate the environment.\n",
    "```bash\n",
    "```bash\n",
    " workon up42-py\n",
    " workon up42-py\n",
    "```\n",
    "```\n",
    " 3. Install the module.\n",
    " 3. Install the module.\n",
    " ```bash\n",
    " ```bash\n",
    " pip install up42-py\n",
    " pip install up42-py\n",
    " ```\n",
    " ```\n",
    " 4. Install Jupyter Lab.\n",
    " 4. Install Jupyter Lab.\n",
    "```bash\n",
    "```bash\n",
    " pip install jupyterlab\n",
    " pip install jupyterlab\n",
    " ```\n",
    " ```\n",
    " 5. Done.\n",
    " 5. Done.\n",
    " \n",
    " \n",
    "Now we can just import it."
    "Now we can just import it."
   ]
   ]
  },
  },
  {
  {
   "cell_type": "code",
   "cell_type": "code",
   "execution_count": null,
   "execution_count": null,
   "metadata": {},
   "metadata": {},
   "outputs": [],
   "outputs": [],
   "source": [
   "source": [
    "import up42"
    "import up42"
   ]
   ]
  },
  },
  {
  {
   "cell_type": "markdown",
   "cell_type": "markdown",
   "metadata": {},
   "metadata": {},
   "source": [
   "source": [
    "## Authenticate with project ID and project key\n",
    "## Authenticate with project ID and project key\n",
    "The project API key and the project ID are read from a JSON file.\n",
    "The project API key and the project ID are read from a JSON file.\n",
    "This file has the following structure:\n",
    "This file has the following structure:\n",
    "\n",
    "\n",
    "```json\n",
    "```json\n",
    "{\n",
    "{\n",
    "  \"project_id\": \"<your-project-ID-here>\",\n",
    "  \"project_id\": \"<your-project-ID-here>\",\n",
    "  \"project_api_key\": \"<your-api-key-here>\"\n",
    "  \"project_api_key\": \"<your-api-key-here>\"\n",
    "}\n",
    "}\n",
    "```\n",
    "```\n",
    "To know how to obtain the project API key and project ID the please refer to the [documentation](https://docs.up42.com/getting-started/first-api-request.html#run-your-first-job-via-the-api)."
    "To know how to obtain the project API key and project ID the please refer to the [documentation](https://docs.up42.com/getting-started/first-api-request.html#run-your-first-job-via-the-api)."
   ]
   ]
  },
  },
  {
  {
   "cell_type": "code",
   "cell_type": "code",
   "execution_count": null,
   "execution_count": null,
   "metadata": {},
   "metadata": {},
   "outputs": [],
   "outputs": [],
   "source": [
   "source": [
    "# Reading the credentials from myconfig.json.\n",
    "# Reading the credentials from myconfig.json.\n",
    "project_config_file = \"myconfig.json\" \n",
    "project_config_file = \"myconfig.json\" \n",
    "up42.authenticate(cfg_file = project_config_file)"
    "up42.authenticate(cfg_file = project_config_file)"
   ]
   ]
  },
  },
  {
  {
   "cell_type": "markdown",
   "cell_type": "markdown",
   "metadata": {},
   "metadata": {},
   "source": [
   "source": [
    "## Initialize the project"
    "## Initialize the project"
   ]
   ]
  },
  },
  {
  {
   "cell_type": "code",
   "cell_type": "code",
   "execution_count": null,
   "execution_count": null,
   "metadata": {},
   "metadata": {},
   "outputs": [],
   "outputs": [],
   "source": [
   "source": [
    "project = up42.initialize_project()"
    "project = up42.initialize_project()"
   ]
   ]
  },
  },
  {
  {
   "cell_type": "markdown",
   "cell_type": "markdown",
   "metadata": {},
   "metadata": {},
   "source": [
   "source": [
    "9## Get to see all the available blocks"
    "9## Get to see all the available blocks"
   ]
   ]
  },
  },
  {
  {
   "cell_type": "code",
   "cell_type": "code",
   "execution_count": null,
   "execution_count": null,
   "metadata": {},
   "metadata": {},
   "outputs": [],
   "outputs": [],
   "source": [
   "source": [
    "all_blocks = up42.get_blocks(basic = True)"
    "all_blocks = up42.get_blocks(basic = True)"
   ]
   ]
  },
  },
  {
  {
   "cell_type": "code",
   "cell_type": "code",
   "execution_count": null,
   "execution_count": null,
   "metadata": {},
   "metadata": {},
   "outputs": [],
   "outputs": [],
   "source": [
   "source": [
    "all_blocks"
    "all_blocks"
   ]
   ]
  },
  },
  {
  {
   "cell_type": "markdown",
   "cell_type": "markdown",
   "metadata": {},
   "metadata": {},
   "source": [
   "source": [
    "As you can see the returned object is a **dictionary**."
    "As you can see the returned object is a **dictionary**."
   ]
   ]
  },
  },
  {
  {
   "cell_type": "code",
   "cell_type": "code",
   "execution_count": null,
   "execution_count": null,
   "metadata": {},
   "metadata": {},
   "outputs": [],
   "outputs": [],
   "source": [
   "source": [
    "type(all_blocks)"
    "type(all_blocks)"
   ]
   ]
  },
  },
  {
  {
   "cell_type": "markdown",
   "cell_type": "markdown",
   "metadata": {},
   "metadata": {},
   "source": [
   "source": [
    "## Now you get to decide if you want to use a workflow you already have or create a new one\n",
    "## Now you get to decide if you want to use a workflow you already have or create a new one\n",
    "Here we are going to create a new one. Further down we make use of an existing workflow."
    "Here we are going to create a new one. Further down we make use of an existing workflow."
   ]
   ]
  },
  },
  {
  {
   "cell_type": "code",
   "cell_type": "code",
   "execution_count": null,
   "execution_count": null,
   "metadata": {},
   "metadata": {},
   "outputs": [],
   "outputs": [],
   "source": [
   "source": [
    "all_blocks[\"oneatlas-pleiades-aoiclipped\"] # Here we selected the Pléiades AOI clipped (streaming) block"
    "all_blocks[\"oneatlas-pleiades-aoiclipped\"] # Here we selected the Pléiades AOI clipped (streaming) block"
   ]
   ]
  },
  },
  {
  {
   "cell_type": "markdown",
   "cell_type": "markdown",
   "metadata": {},
   "metadata": {},
   "source": [
   "source": [
    "### Building a workflow with just this block"
    "### Building a workflow with just this block"
   ]
   ]
  },
  },
  {
  {
   "cell_type": "code",
   "cell_type": "code",
   "execution_count": null,
   "execution_count": null,
   "metadata": {},
   "metadata": {},
   "outputs": [],
   "outputs": [],
   "source": [
   "source": [
    "my_tasks = [\"oneatlas-pleiades-aoiclipped\"] # a task corresponds to a block in the workflow"
    "my_tasks = [\"oneatlas-pleiades-aoiclipped\"] # a task corresponds to a block in the workflow"
   ]
   ]
  },
  },
  {
  {
   "cell_type": "code",
   "cell_type": "code",
   "execution_count": null,
   "execution_count": null,
   "metadata": {},
   "metadata": {},
   "outputs": [],
   "outputs": [],
   "source": [
   "source": [
    "workflow = project.create_workflow(name = \"A workflow to implement an image subscription feed\")"
    "workflow = project.create_workflow(name = \"A workflow to implement an image subscription feed\")"
   ]
   ]
  },
  },
  {
  {
   "cell_type": "code",
   "cell_type": "code",
   "execution_count": null,
   "execution_count": null,
   "metadata": {},
   "metadata": {},
   "outputs": [],
   "outputs": [],
   "source": [
   "source": [
    "workflow.add_workflow_tasks(input_tasks = my_tasks)"
    "workflow.add_workflow_tasks(input_tasks = my_tasks)"
   ]
   ]
  },
  },
  {
  {
   "cell_type": "markdown",
   "cell_type": "markdown",
   "metadata": {},
   "metadata": {},
   "source": [
   "source": [
    "#### Checking the workflow tasks"
    "#### Checking the workflow tasks"
   ]
   ]
  },
  },
  {
  {
   "cell_type": "code",
   "cell_type": "code",
   "execution_count": null,
   "execution_count": null,
   "metadata": {},
   "metadata": {},
   "outputs": [],
   "outputs": [],
   "source": [
   "source": [
    "workflow.get_workflow_tasks(basic=True)"
    "workflow.get_workflow_tasks(basic=True)"
   ]
   ]
  },
  },
  {
  {
   "cell_type": "markdown",
   "cell_type": "markdown",
   "metadata": {},
   "metadata": {},
   "source": [
   "source": [
    "## Let us input the AOI"
    "## Let us input the AOI"
   ]
   ]
  },
  },
  {
  {
   "cell_type": "markdown",
   "cell_type": "markdown",
   "metadata": {},
   "metadata": {},
   "source": [
   "source": [
    "The AOI needs to be in an **external** GeoJSOn file. There are multiple options to do this. One of them is using Google Maps."
    "The AOI needs to be in an **external** GeoJSOn file. There are multiple options to do this. One of them is using Google Maps."
   ]
   ]
  },
  },
  {
  {
   "cell_type": "markdown",
   "cell_type": "markdown",
   "metadata": {},
   "metadata": {},
   "source": [
   "source": [
    " 1. Draw the AOI in [geojson.io](http://geojson.io).\n",
    " 1. Draw the AOI in [geojson.io](http://geojson.io).\n",
    " 2. Export as GeoJSON file.\n",
    " 2. Export as GeoJSON file.\n",
    " 3. Done."
    " 3. Done."
   ]
   ]
  },
  },
  {
  {
   "cell_type": "code",
   "cell_type": "code",
   "execution_count": null,
   "execution_count": null,
   "metadata": {},
   "metadata": {},
   "outputs": [],
   "outputs": [],
   "source": [
   "source": [
    "aoi = up42.read_vector_file(\"data/accra_location.geojson\")"
    "aoi = up42.read_vector_file(\"data/accra_location.geojson\")"
   ]
   ]
  },
  },
  {
  {
   "cell_type": "markdown",
   "cell_type": "markdown",
   "metadata": {},
   "metadata": {},
   "source": [
   "source": [
    "### Metadata from AOI GeoJSON as a an identifier\n",
    "### Metadata from AOI GeoJSON as a an identifier\n",
    "The GeoJSON specifying the AOI has a set of properties that identify this AOI in _human_ terms. Let us inspect it:"
    "The GeoJSON specifying the AOI has a set of properties that identify this AOI in _human_ terms. Let us inspect it:"
   ]
   ]
  },
  },
  {
  {
   "cell_type": "code",
   "cell_type": "code",
   "execution_count": null,
   "execution_count": null,
   "metadata": {},
   "metadata": {},
   "outputs": [],
   "outputs": [],
   "source": [
   "source": [
    "aoi_metadata = [feature[\"properties\"] for feature in aoi[\"features\"]]\n",
    "aoi_metadata = [feature[\"properties\"] for feature in aoi[\"features\"]]\n",
    "aoi_metadata[0]"
    "aoi_metadata[0]"
   ]
   ]
  },
  },
  {
  {
   "cell_type": "markdown",
   "cell_type": "markdown",
   "metadata": {},
   "metadata": {},
   "source": [
   "source": [
    "We can see that there is an [UUID](https://en.wikipedia.org/wiki/Universally_unique_identifier#Version_4_(random)), a name and description. The UUID **uniquely** identifies this particular AOI.\n",
    "We can see that there is an [UUID](https://en.wikipedia.org/wiki/Universally_unique_identifier#Version_4_(random)), a name and description. The UUID **uniquely** identifies this particular AOI.\n",
    "We will see further down that this UUID is included in the record list for acquired images so far for this AOI. This list can have as many AOIs as desired. Since we are using a CSV this number must\n",
    "We will see further down that this UUID is included in the record list for acquired images so far for this AOI. This list can have as many AOIs as desired. Since we are using a CSV this number must\n",
    "be _reasonable_ since for very large number of images (records) and/or AOIs a key-value store or any other sort of database should be used."
    "be _reasonable_ since for very large number of images (records) and/or AOIs a key-value store or any other sort of database should be used."
   ]
   ]
  },
  },
  {
  {
   "cell_type": "markdown",
   "cell_type": "markdown",
   "metadata": {},
   "metadata": {},
   "source": [
   "source": [
    "## Create the job parameters"
    "## Create the job parameters"
   ]
   ]
  },
  },
  {
  {
   "cell_type": "code",
   "cell_type": "code",
   "execution_count": null,
   "execution_count": null,
   "metadata": {},
   "metadata": {},
   "outputs": [],
   "outputs": [],
   "source": [
   "source": [
    "job_params = workflow.construct_parameters(geometry=aoi, geometry_operation = \"intersects\", limit=2) # I would like to have two images"
    "job_params = workflow.construct_parameters(geometry=aoi, geometry_operation = \"intersects\", limit=2) # I would like to have two images"
   ]
   ]
  },
  },
  {
  {
   "cell_type": "markdown",
   "cell_type": "markdown",
   "metadata": {},
   "metadata": {},
   "source": [
   "source": [
    "### Let us check the job parameters"
    "### Let us check the job parameters"
   ]
   ]
  },
  },
  {
  {
   "cell_type": "code",
   "cell_type": "code",
   "execution_count": null,
   "execution_count": null,
   "metadata": {},
   "metadata": {},
   "outputs": [],
   "outputs": [],
   "source": [
   "source": [
    "job_params"
    "job_params"
   ]
   ]
  },
  },
  {
  {
   "cell_type": "markdown",
   "cell_type": "markdown",
   "metadata": {},
   "metadata": {},
   "source": [
   "source": [
    "## Run a test query to see what imagery is available"
    "## Run a test query to see what imagery is available"
   ]
   ]
  },
  },
  {
  {
   "cell_type": "code",
   "cell_type": "code",
   "execution_count": null,
   "execution_count": null,
   "metadata": {},
   "metadata": {},
   "outputs": [],
   "outputs": [],
   "source": [
   "source": [
    "test_query_job = workflow.test_job(input_parameters = job_params, track_status = True)"
    "test_query_job = workflow.test_job(input_parameters = job_params, track_status = True)"
   ]
   ]
  },
  },
  {
  {
   "cell_type": "markdown",
   "cell_type": "markdown",
   "metadata": {},
   "metadata": {},
   "source": [
   "source": [
    "### Lets get the results\n",
    "### Lets get the results\n",
    "In this case the results is a GeoJSON that includes the metadata about the available imagery.\n",
    "In this case the results is a GeoJSON that includes the metadata about the available imagery.\n",
    "This is a `FeatureCollection` that will be empty if no imagery is found."
    "This is a `FeatureCollection` that will be empty if no imagery is found."
   ]
   ]
  },
  },
  {
  {
   "cell_type": "code",
   "cell_type": "code",
   "execution_count": null,
   "execution_count": null,
   "metadata": {},
   "metadata": {},
   "outputs": [],
   "outputs": [],
   "source": [
   "source": [
    "test_query_results = test_query_job.get_jobtasks_results_json()"
    "test_query_results = test_query_job.get_jobtasks_results_json()"
   ]
   ]
  },
  },
  {
  {
   "cell_type": "code",
   "cell_type": "code",
   "execution_count": null,
   "execution_count": null,
   "metadata": {},
   "metadata": {},
   "outputs": [],
   "outputs": [],
   "source": [
   "source": [
    "# Get the top level key.\n",
    "# Get the top level key.\n",
    "tq_key = list(test_query_results.keys())[0]"
    "tq_key = list(test_query_results.keys())[0]"
   ]
   ]
  },
  },
  {
  {
   "cell_type": "code",
   "cell_type": "code",
   "execution_count": null,
   "execution_count": null,
   "metadata": {},
   "metadata": {},
   "outputs": [],
   "outputs": [],
   "source": [
   "source": [
    "\"Total of #: {} features found.\".format(len(test_query_results[tq_key]))"
    "\"Total of #: {} features found.\".format(len(test_query_results[tq_key]))"
   ]
   ]
  },
  },
  {
  {
   "cell_type": "code",
   "cell_type": "code",
   "execution_count": null,
   "execution_count": null,
   "metadata": {},
   "metadata": {},
   "outputs": [],
   "outputs": [],
   "source": [
   "source": [
    "## Get the properties of the found features.\n",
    "## Get the properties of the found features.\n",
    "props = [feature[\"properties\"] for feature in test_query_results[tq_key][\"features\"]]"
    "props = [feature[\"properties\"] for feature in test_query_results[tq_key][\"features\"]]"
   ]
   ]
  },
  },
  {
  {
   "cell_type": "markdown",
   "cell_type": "markdown",
   "metadata": {},
   "metadata": {},
   "source": [
   "source": [
    "### Lets get the image IDs"
    "### Lets get the image IDs"
   ]
   ]
  },
  },
  {
  {
   "cell_type": "code",
   "cell_type": "code",
   "execution_count": null,
   "execution_count": null,
   "metadata": {},
   "metadata": {},
   "outputs": [],
   "outputs": [],
   "source": [
   "source": [
    "# Fist let us look at the keys.\n",
    "# Fist let us look at the keys.\n",
    "props[0]"
    "props[0]"
   ]
   ]
  },
  },
  {
  {
   "cell_type": "markdown",
   "cell_type": "markdown",
   "metadata": {},
   "metadata": {},
   "source": [
   "source": [
    "The key we are interested in is `parentIdentifier`."
    "The key we are interested in is `parentIdentifier`."
   ]
   ]
  },
  },
  {
  {
   "cell_type": "code",
   "cell_type": "code",
   "execution_count": null,
   "execution_count": null,
   "metadata": {},
   "metadata": {},
   "outputs": [],
   "outputs": [],
   "source": [
   "source": [
    "## Get the scene IDs.\n",
    "## Get the scene IDs.\n",
    "scene_ids = [feature_props[\"parentIdentifier\"] for feature_props in props]"
    "scene_ids = [feature_props[\"parentIdentifier\"] for feature_props in props]"
   ]
   ]
  },
  },
  {
  {
   "cell_type": "code",
   "cell_type": "code",
   "execution_count": null,
   "execution_count": null,
   "metadata": {},
   "metadata": {},
   "outputs": [],
   "outputs": [],
   "source": [
   "source": [
    "scene_ids "
    "scene_ids "
   ]
   ]
  },
  },
  {
  {
   "cell_type": "markdown",
   "cell_type": "markdown",
   "metadata": {},
   "metadata": {},
   "source": [
   "source": [
    "## Compare against existing IDs\n",
    "## Compare against existing IDs\n",
    "This has to be done on your side. Be it with a CSV file, KV store, relational DB, etc.\n",
    "This has to be done on your side. Be it with a CSV file, KV store, relational DB, etc.\n",
    "In this case we opt for using a simple [CSV](https://en.wikipedia.org/wiki/Comma-separated_values) file to hold a table of AOIs with acquired imagery and a description of the AOI. "
    "In this case we opt for using a simple [CSV](https://en.wikipedia.org/wiki/Comma-separated_values) file to hold a table of AOIs with acquired imagery and a description of the AOI. "
   ]
   ]
  },
  },
  {
  {
   "cell_type": "code",
   "cell_type": "code",
   "execution_count": null,
   "execution_count": null,
   "metadata": {},
   "metadata": {},
   "outputs": [],
   "outputs": [],
   "source": [
   "source": [
    "# Import pandas.\n",
    "# Import pandas.\n",
    "import pandas as pd "
    "import pandas as pd "
   ]
   ]
  },
  },
  {
  {
   "cell_type": "markdown",
   "cell_type": "markdown",
   "metadata": {},
   "metadata": {},
   "source": [
   "source": [
    "### CSV file structure\n",
    "### CSV file structure\n",
    "The CSV file, `data/image_list.csv` has the following content:\n",
    "The CSV file, `data/image_list.csv` has the following content:\n",
    "\n",
    "\n",
    "| acquisitionDate      | scene_id                                                     |\n",
    "| acquisitionDate      | scene_id                                                     |\n",
    "|----------------------|--------------------------------------------------------------|\n",
    "|----------------------|--------------------------------------------------------------|\n",
    "| 2020-04-13T10:05:49Z | S2B_MSIL1C_20200413T100549_N0209_R022_T30NZM_20200413T134946 |\n",
    "| 2020-04-13T10:05:49Z | S2B_MSIL1C_20200413T100549_N0209_R022_T30NZM_20200413T134946 |\n",
    "| 2020-04-03T10:05:49Z | S2B_MSIL1C_20200403T100549_N0209_R022_T30NZM_20200403T135413 |\n",
    "| 2020-04-03T10:05:49Z | S2B_MSIL1C_20200403T100549_N0209_R022_T30NZM_20200403T135413 |\n",
    "| 2020-03-29T10:10:21Z | S2A_MSIL1C_20200329T101021_N0209_R022_T30NZM_20200329T121428 |\n",
    "| 2020-03-29T10:10:21Z | S2A_MSIL1C_20200329T101021_N0209_R022_T30NZM_20200329T121428 |\n",
    "| 2020-03-22T10:20:21Z | S2A_MSIL1C_20200322T102021_N0209_R065_T30NZM_20200322T122409 |\n",
    "| 2020-03-22T10:20:21Z | S2A_MSIL1C_20200322T102021_N0209_R065_T30NZM_20200322T122409 |\n",
    "| 2020-03-12T10:20:21Z | S2A_MSIL1C_20200312T102021_N0209_R065_T30NZM_20200312T123419 |\n",
    "| 2020-03-12T10:20:21Z | S2A_MSIL1C_20200312T102021_N0209_R065_T30NZM_20200312T123419 |\n",
    "| 2020-03-09T10:10:21Z | S2A_MSIL1C_20200309T101021_N0209_R022_T30NZM_20200309T122556 |\n",
    "| 2020-03-09T10:10:21Z | S2A_MSIL1C_20200309T101021_N0209_R022_T30NZM_20200309T122556 |\n",
    "| 2020-02-28T10:10:21Z | S2A_MSIL1C_20200228T101021_N0209_R022_T30NZM_20200228T111325 |\n",
    "| 2020-02-28T10:10:21Z | S2A_MSIL1C_20200228T101021_N0209_R022_T30NZM_20200228T111325 |\n",
    "| 2020-02-23T10:09:19Z | S2B_MSIL1C_20200223T100919_N0209_R022_T30NZM_20200223T130018 |\n",
    "| 2020-02-23T10:09:19Z | S2B_MSIL1C_20200223T100919_N0209_R022_T30NZM_20200223T130018 |\n",
    "| 2020-02-21T10:20:41Z | S2A_MSIL1C_20200221T102041_N0209_R065_T30NZM_20200221T121341 |\n",
    "| 2020-02-21T10:20:41Z | S2A_MSIL1C_20200221T102041_N0209_R065_T30NZM_20200221T121341 |\n",
    "| 2019-11-26T10:04:00Z | DS_SPOT6_201911261004001_FR1_FR1_FR1_FR1_E000N06_03089       |\n",
    "| 2019-11-26T10:04:00Z | DS_SPOT6_201911261004001_FR1_FR1_FR1_FR1_E000N06_03089       |\n",
    "| 2019-05-08T10:33:19Z | DS_PHR1A_201905081033195_FR1_PX_W001N05_1115_00786           |\n",
    "| 2019-05-08T10:33:19Z | DS_PHR1A_201905081033195_FR1_PX_W001N05_1115_00786           |\n",
    "\n",
    "\n",
    "As you can see there are two fields: `acquisitionDate` and `scene_id`. The names are self-explanatory."
    "As you can see there are two fields: `acquisitionDate` and `scene_id`. The names are self-explanatory."
   ]
   ]
  },
  },
  {
  {
   "cell_type": "markdown",
   "cell_type": "markdown",
   "metadata": {},
   "metadata": {},
   "source": [
   "source": [
    "### Let us read the file and compare the existing scenes with the ones returned\n",
    "### Let us read the file and compare the existing scenes with the ones returned\n",
    "\n",
    "\n",
    "We saw above that the scenes `DS_PHR1A_201905081033195_FR1_PX_W001N05_1115_00786` and `DS_PHR1A_201902261029401_FR1_PX_W001N05_1115_01693` are the ones returned by the test query."
    "We saw above that the scenes `DS_PHR1A_201905081033195_FR1_PX_W001N05_1115_00786` and `DS_PHR1A_201902261029401_FR1_PX_W001N05_1115_01693` are the ones returned by the test query."
   ]
   ]
  },
  },
  {
  {
   "cell_type": "code",
   "cell_type": "code",
   "execution_count": null,
   "execution_count": null,
   "metadata": {},
   "metadata": {},
   "outputs": [],
   "outputs": [],
   "source": [
   "source": [
    "# Read the image list from the CSV file.\n",
    "# Read the image list from the CSV file.\n",
    "image_list_file = \"data/image_list.csv\"\n",
    "image_list_file = \"data/image_list.csv\"\n",
    "existing_scenes = pd.read_csv(image_list_file)"
    "existing_scenes = pd.read_csv(image_list_file)"
   ]
   ]
  },
  },
  {
  {
   "cell_type": "code",
   "cell_type": "code",
   "execution_count": null,
   "execution_count": null,
   "metadata": {},
   "metadata": {},
   "outputs": [],
   "outputs": [],
   "source": [
   "source": [
    "# Convert to a list.\n",
    "# Convert to a list.\n",
    "existing_scenes=existing_scenes.scene_id.to_list()"
    "existing_scenes=existing_scenes.scene_id.to_list()"
   ]
   ]
  },
  },
  {
  {
   "cell_type": "markdown",
   "cell_type": "markdown",
   "metadata": {},
   "metadata": {},
   "source": [
   "source": [
    "Let us compare with a scene IDs returned from the test query and return all that are not yet in the CSV file."
    "Let us compare with a scene IDs returned from the test query and return all that are not yet in the CSV file."
   ]
   ]
  },
  },
  {
  {
   "cell_type": "code",
   "cell_type": "code",
   "execution_count": null,
   "execution_count": null,
   "metadata": {},
   "metadata": {},
   "outputs": [],
   "outputs": [],
   "source": [
   "source": [
    "scenes_to_retrieve = [i for i in scene_ids if i not in existing_scenes]"
    "scenes_to_retrieve = [i for i in scene_ids if i not in existing_scenes]"
   ]
   ]
  },
  },
  {
  {
   "cell_type": "code",
   "cell_type": "code",
   "execution_count": null,
   "execution_count": null,
   "metadata": {},
   "metadata": {},
   "outputs": [],
   "outputs": [],
   "source": [
   "source": [
    "scenes_to_retrieve"
    "scenes_to_retrieve"
   ]
   ]
  },
  },
  {
  {
   "cell_type": "markdown",
   "cell_type": "markdown",
   "metadata": {},
   "metadata": {},
   "source": [
   "source": [
    "We see that **none** of the scenes from the test are on the list."
    "We see that **none** of the scenes from the test are on the list."
   ]
   ]
  },
  },
  {
  {
   "cell_type": "markdown",
   "cell_type": "markdown",
   "metadata": {},
   "metadata": {},
   "source": [
   "source": [
    "## We decided to acquire **both** scenes\n",
    "## We decided to acquire **both** scenes\n",
    "We need to inject `scene_ids` into `job_parameters`. We just invoke the `workflow.construct_parameters` function now providing the IDs in the `ids` JSON field, corresponding to the argument `scene_ids` in the function."
    "We need to inject `scene_ids` into `job_parameters`. We just invoke the `workflow.construct_parameters` function now providing the IDs in the `ids` JSON field, corresponding to the argument `scene_ids` in the function."
   ]
   ]
  },
  },
  {
  {
   "cell_type": "code",
   "cell_type": "code",
   "execution_count": null,
   "execution_count": null,
   "metadata": {},
   "metadata": {},
   "outputs": [],
   "outputs": [],
   "source": [
   "source": [
    "job_params = workflow.construct_parameters(geometry=aoi, geometry_operation = \"intersects\", scene_ids = scenes_to_retrieve)"
    "job_params = workflow.construct_parameters(geometry=aoi, geometry_operation = \"intersects\", scene_ids = scenes_to_retrieve)"
   ]
   ]
  },
  },
  {
  {
   "cell_type": "code",
   "cell_type": "code",
   "execution_count": null,
   "execution_count": null,
   "metadata": {},
   "metadata": {},
   "outputs": [],
   "outputs": [],
   "source": [
   "source": [
    "job_params"
    "job_params"
   ]
   ]
  },
  },
  {
  {
   "cell_type": "markdown",
   "cell_type": "markdown",
   "metadata": {},
   "metadata": {},
   "source": [
   "source": [
    "### Run the _real_ job with the parameters"
    "### Run the _real_ job with the parameters"
   ]
   ]
  },
  },
  {
  {
   "cell_type": "code",
   "cell_type": "code",
   "execution_count": null,
   "execution_count": null,
   "metadata": {},
   "metadata": {},
   "outputs": [],
   "outputs": [],
   "source": [
   "source": [
    "real_job = workflow.run_job(input_parameters = job_params, track_status = True)"
    "real_job = workflow.run_job(input_parameters = job_params, track_status = True)"
   ]
   ]
  },
  },
  {
  {
   "cell_type": "markdown",
   "cell_type": "markdown",
   "metadata": {},
   "metadata": {},
   "source": [
   "source": [
    "## Download the results\n",
    "## Download the results\n",
    "First we create the directory where the output files will be written and then we write the files."
    "First we create the directory where the output files will be written and then we write the files."
   ]
   ]
  },
  },
  {
  {
   "cell_type": "code",
   "cell_type": "code",
   "execution_count": null,
   "execution_count": null,
   "metadata": {},
   "metadata": {},
   "outputs": [],
   "outputs": [],
   "source": [
   "source": [
    "# Output directory.\n",
    "# Output directory.\n",
    "my_path=\"/tmp/my-results\"\n",
    "my_path=\"/tmp/my-results\"\n",
    "from pathlib import Path\n",
    "from pathlib import Path\n",
    "Path(my_path).mkdir(parents=True, exist_ok=True)"
    "Path(my_path).mkdir(parents=True, exist_ok=True)"
   ]
   ]
  },
  },
  {
  {
   "cell_type": "code",
   "cell_type": "code",
   "execution_count": null,
   "execution_count": null,
   "metadata": {},
   "metadata": {},
   "outputs": [],
   "outputs": [],
   "source": [
   "source": [
    "# Download the results into the output directory.\n",
    "# Download the results into the output directory.\n",
    "outfile = real_job.download_results(output_directory = my_path)"
    "outfile = real_job.download_results(output_directory = my_path)"
   ]
   ]
  },
  },
  {
  {
   "cell_type": "markdown",
   "cell_type": "markdown",
   "metadata": {},
   "metadata": {},
   "source": [
   "source": [
    "### Let us look inside the directory where we wrote the output"
    "### Let us look inside the directory where we wrote the output"
   ]
   ]
  },
  },
  {
  {
   "cell_type": "code",
   "cell_type": "code",
   "execution_count": null,
   "execution_count": null,
   "metadata": {},
   "metadata": {},
   "outputs": [],
   "outputs": [],
   "source": [
   "source": [
    "%%bash\n",
    "%%bash\n",
    "ls -laR /tmp/my-results"
    "ls -laR /tmp/my-results"
   ]
   ]
  },
  },
  {
  {
   "cell_type": "markdown",
   "cell_type": "markdown",
   "metadata": {},
   "metadata": {},
   "source": [
   "source": [
    "## Visualize the results\n",
    "## Visualize the results\n",
    "We reference the `real_job` variable."
    "We reference the `real_job` variable."
   ]
   ]
  },
  },
  {
  {
   "cell_type": "code",
   "cell_type": "code",
   "execution_count": null,
   "execution_count": null,
   "metadata": {},
   "metadata": {},
   "outputs": [],
   "outputs": [],
   "source": [
   "source": [
    "# First we get the GeoTIFF image(s) filename(s).\n",
    "# First we get the GeoTIFF image(s) filename(s).\n",
    "import glob\n",
    "import glob\n",
    "img_files = [f for f in glob.glob(my_path + \"/*.tif\")]"
    "img_files = [f for f in glob.glob(my_path + \"/*.tif\")]"
   ]
   ]
  },
  },
  {
  {
   "cell_type": "code",
   "cell_type": "code",
   "execution_count": null,
   "execution_count": null,
   "metadata": {},
   "metadata": {},
   "outputs": [],
   "outputs": [],
   "source": [
   "source": [
    "img_files"
    "img_files"
   ]
   ]
  },
  },
  {
  {
   "cell_type": "code",
   "cell_type": "code",
   "execution_count": null,
   "execution_count": null,
   "metadata": {},
   "metadata": {},
   "outputs": [],
   "outputs": [],
   "source": [
   "source": [
    "real_job.download_quicklooks(output_directory=\"/tmp/my-results\")"
    "real_job.download_quicklooks(output_directory=\"/tmp/my-results\")"
   ]
   ]
  },
  },
  {
  {
   "cell_type": "code",
   "cell_type": "code",
   "execution_count": null,
   "execution_count": null,
   "metadata": {},
   "metadata": {},
   "outputs": [],
   "outputs": [],
   "source": [
   "source": [
    "# Now we plot the image files.\n",
    "# Now we plot the image files.\n",
    "from rasterio import open, plot\n",
    "from rasterio import open, plot\n",
    "# Set the size and style the image.\n",
    "# Set the size and style the image.\n",
    "import matplotlib.pyplot as plt\n",
    "import matplotlib.pyplot as plt\n",
    "[plt.figure(figsize=(12,12)) and plt.title(s) and plt.axis(\"off\") and plot.show(s) for s in [open(f) for f in img_files]];"
    "[plt.figure(figsize=(12,12)) and plt.title(s) and plt.axis(\"off\") and plot.show(s) for s in [open(f) for f in img_files]];"
   ]
   ]
  },
  },
  {
  {
   "cell_type": "markdown",
   "cell_type": "markdown",
   "metadata": {},
   "metadata": {},
   "source": [
   "source": [
    "## Visualize the quicklooks\n",
    "## Visualize the quicklooks\n",
    "Quicklooks are low quality bitmap images, usually in JPEG or PNG format that provide a preview of the original images."
    "Quicklooks are low quality bitmap images, usually in JPEG or PNG format that provide a preview of the original images."
   ]
   ]
  },
  },
  {
  {
   "cell_type": "code",
   "cell_type": "code",
   "execution_count": null,
   "execution_count": null,
   "metadata": {},
   "metadata": {},
   "outputs": [],
   "outputs": [],
   "source": [
   "source": [
    "quicklooks = real_job.download_quicklooks(output_directory=my_path)"
    "quicklooks = real_job.download_quicklooks(output_directory=my_path)"
   ]
   ]
  },
  },
  {
  {
   "cell_type": "code",
   "cell_type": "code",
   "execution_count": null,
   "execution_count": null,
   "metadata": {},
   "metadata": {},
   "outputs": [],
   "outputs": [],
   "source": [
   "source": [
    "quicklooks"
    "quicklooks"
   ]
   ]
  },
  },
  {
  {
   "cell_type": "code",
   "cell_type": "code",
   "execution_count": null,
   "execution_count": null,
   "metadata": {},
   "metadata": {},
   "outputs": [],
   "outputs": [],
   "source": [
   "source": [
    "[plt.figure(figsize=(12,12)) and plt.title(s) and plt.axis(\"off\") and plot.show(s) for s in [open(f) for f in quicklooks]];"
    "[plt.figure(figsize=(12,12)) and plt.title(s) and plt.axis(\"off\") and plot.show(s) for s in [open(f) for f in quicklooks]];"
   ]
   ]
  },
  },
  {
  {
   "cell_type": "markdown",
   "cell_type": "markdown",
   "metadata": {},
   "metadata": {},
   "source": [
   "source": [
    "## Adding the retrieved scenes to the image list\n",
    "## Adding the retrieved scenes to the image list\n",
    "Now that we have retrieved the two scenes from Pléaides we can add them to the CSV file that has all the retrieved images so far. We need to go back to the GeoJSON returned in test query and obtain the acquisition dates."
    "Now that we have retrieved the two scenes from Pléaides we can add them to the CSV file that has all the retrieved images so far. We need to go back to the GeoJSON returned in test query and obtain the acquisition dates."
   ]
   ]
  },
  },
  {
  {
   "cell_type": "code",
   "cell_type": "code",
   "execution_count": null,
   "execution_count": null,
   "metadata": {},
   "metadata": {},
   "outputs": [],
   "outputs": [],
   "source": [
   "source": [
    "## Get the scene and aqcuisition dates pairs.\n",
    "## Get the scene and aqcuisition dates pairs.\n",
    "retrieved_image_list = [[feature_props[\"acquisitionDate\"], feature_props[\"parentIdentifier\"]] for feature_props in props]"
    "retrieved_image_list = [[feature_props[\"acquisitionDate\"], feature_props[\"parentIdentifier\"]] for feature_props in props]"
   ]
   ]
  },
  },
  {
  {
   "cell_type": "code",
   "cell_type": "code",
   "execution_count": null,
   "execution_count": null,
   "metadata": {},
   "metadata": {},
   "outputs": [],
   "outputs": [],
   "source": [
   "source": [
    "retrieved_image_list"
    "retrieved_image_list"
   ]
   ]
  },
  },
  {
  {
   "cell_type": "code",
   "cell_type": "code",
   "execution_count": null,
   "execution_count": null,
   "metadata": {},
   "metadata": {},
   "outputs": [],
   "outputs": [],
   "source": [
   "source": [
    "# Create a data frame to hold the retrueve images.\n",
    "# Create a data frame to hold the retrueve images.\n",
    "scenes_to_add = pd.DataFrame(retrieved_image_list, columns=[\"acquisitionDate\", \"scene_id\"])"
    "scenes_to_add = pd.DataFrame(retrieved_image_list, columns=[\"acquisitionDate\", \"scene_id\"])"
   ]
   ]
  },
  },
  {
  {
   "cell_type": "code",
   "cell_type": "code",
   "execution_count": null,
   "execution_count": null,
   "metadata": {},
   "metadata": {},
   "outputs": [],
   "outputs": [],
   "source": [
   "source": [
    "scenes_to_add"
    "scenes_to_add"
   ]
   ]
  },
  },
  {
  {
   "cell_type": "code",
   "cell_type": "code",
   "execution_count": null,
   "execution_count": null,
   "metadata": {},
   "metadata": {},
   "outputs": [],
   "outputs": [],
   "source": [
   "source": [
    "# Append it to the image list CSV file.\n",
    "# Append it to the image list CSV file.\n",
    "scenes_to_add.to_csv(image_list_file, mode=\"a\", index=False, header=False)"
    "scenes_to_add.to_csv(image_list_file, mode=\"a\", index=False, header=False)"
   ]
   ]
  },
  },
  {
  {
   "cell_type": "markdown",
   "cell_type": "markdown",
   "metadata": {},
   "metadata": {},
   "source": [
   "source": [
    "We can use the UNIX utility `tail` to peek inside the CSV file. To confirm that the images we retrieved above are now added."
    "We can use the UNIX utility `tail` to peek inside the CSV file. To confirm that the images we retrieved above are now added."
   ]
   ]
  },
  },
  {
  {
   "cell_type": "code",
   "cell_type": "code",
   "execution_count": null,
   "execution_count": null,
   "metadata": {},
   "metadata": {},
   "outputs": [],
   "outputs": [],
   "source": [
   "source": [
    "%%bash\n",
    "%%bash\n",
    "tail -2 data/image_list.csv"
    "tail -2 data/image_list.csv"
   ]
   ]
  },
  },
  {
  {
   "cell_type": "markdown",
   "cell_type": "markdown",
   "metadata": {},
   "metadata": {},
   "source": [
   "source": [
    "## Using catalog search\n",
    "## Using catalog search\n",
    "Catalog search is a functionality that allows to search across multiple data sources simultaneously. [Above](#Run-a-test-query-to-see-what-imagery-is-available) we used a test query. This can, currently, only search across a single data source.\n",
    "Catalog search is a functionality that allows to search across multiple data sources simultaneously. [Above](#Run-a-test-query-to-see-what-imagery-is-available) we used a test query. This can, currently, only search across a single data source.\n",
    "Catalog search uses a different API endpoints and accepts as payload a [STAC](https://stacspec.org/STAC-api.html#tag/STAC) query.\n",
    "Catalog search uses a different API endpoints and accepts as payload a [STAC](https://stacspec.org/STAC-api.html#tag/STAC) query.\n",
    "### Create an instance of the catalog object (initialize catalog search)\n",
    "### Create an instance of the catalog object (initialize catalog search)\n",
    "Please note that we already [authenticated](#Authenticate-with-project-ID-and-project-key) above."
    "Please note that we already [authenticated](#Authenticate-with-project-ID-and-project-key) above."
   ]
   ]
  },
  },
  {
  {
   "cell_type": "code",
   "cell_type": "code",
   "execution_count": null,
   "execution_count": null,
   "metadata": {},
   "metadata": {},
   "outputs": [],
   "outputs": [],
   "source": [
   "source": [
    "catalog = up42.initialize_catalog()"
    "catalog = up42.initialize_catalog()"
   ]
   ]
  },
  },
  {
  {
   "cell_type": "markdown",
   "cell_type": "markdown",
   "metadata": {},
   "metadata": {},
   "source": [
   "source": [
    "### Create the search parameters (STAC query)\n",
    "### Create the search parameters (STAC query)\n",
    "\n",
    "\n",
    " We can set the following parameters for the search:  \n",
    " We can set the following parameters for the search:  \n",
    " \n",
    " \n",
    " 1. The are of interest, [AOI](#Let-us-input-the-AOI): `aoi`.\n",
    " 1. The are of interest, [AOI](#Let-us-input-the-AOI): `aoi`.\n",
    " \n",
    " \n",
    " 2. start (`start_date`) and end date (`end_date`) (defining the date range). Default value is between January 1st and December 31st of the current year.\n",
    " 2. start (`start_date`) and end date (`end_date`) (defining the date range). Default value is between January 1st and December 31st of the current year.\n",
    " \n",
    " \n",
    " 3. What satellites (data sources) are we searching through. Possible values are:\n",
    " 3. What satellites (data sources) are we searching through. Possible values are:\n",
    "    + pleiades\n",
    "    + pleiades\n",
    "    + spot\n",
    "    + spot\n",
    "    + sentinel1\n",
    "    + sentinel1\n",
    "    + sentinel2\n",
    "    + sentinel2\n",
    "    + sentinel3\n",
    "    + sentinel3\n",
    "    + sentinel5p\n",
    "    + sentinel5p\n",
    "    \n",
    "    \n",
    "    This corresponds to the `sensors` parameter &mdash; a list. By default it searches across **all** of them.\n",
    "    This corresponds to the `sensors` parameter &mdash; a list. By default it searches across **all** of them.\n",
    " \n",
    " \n",
    " 4. Define how many results we want: `limit` parameter.\n",
    " 4. Define how many results we want: `limit` parameter.\n",
    " \n",
    " \n",
    " 5. cloud coverage: `max_cloudcover` parameter.\n",
    " 5. cloud coverage: `max_cloudcover` parameter.\n",
    " \n",
    " \n",
    " 6. Result sorting key. The results can be sorted by &mdash; `sortby`parameter:\n",
    " 6. Result sorting key. The results can be sorted by &mdash; `sortby`parameter:\n",
    "    + cloud coverage: cloudCoverage (default).\n",
    "    + cloud coverage: cloudCoverage (default).\n",
    "    + acquisition date: acquisitionDate`.\n",
    "    + acquisition date: acquisitionDate`.\n",
    "    + scene ID: acquisitionIdentifier.\n",
    "    + scene ID: acquisitionIdentifier.\n",
    "    + incidence angle: incidenceAngle`.\n",
    "    + incidence angle: incidenceAngle`.\n",
    "    + snow coverage: snowCover.\n",
    "    + snow coverage: snowCover.\n",
    "\n",
    "\n",
    " 7. Ordering of results. In which direction the results are ordered. This corresponds to the parameter `ascending`. By default it `True`.  \n",
    " 7. Ordering of results. In which direction the results are ordered. This corresponds to the parameter `ascending`. By default it `True`.  \n",
    " \n",
    " \n",
    " \n",
    " \n",
    "In this case we are looking for Pléiades, SPOT and Sentinel 2 data for this AOI from Januray 1st 2019 until now, and we want the data to be sorted by descending order of the acquisition date, i.e, \n",
    "In this case we are looking for Pléiades, SPOT and Sentinel 2 data for this AOI from Januray 1st 2019 until now, and we want the data to be sorted by descending order of the acquisition date, i.e, \n",
    "most recent results displayed first. We want a maximum cloud coverage of 20%."
    "most recent results displayed first. We want a maximum cloud coverage of 20%."
   ]
   ]
  },
  },
  {
  {
   "cell_type": "code",
   "cell_type": "code",
   "execution_count": null,
   "execution_count": null,
   "metadata": {},
   "metadata": {},
   "outputs": [],
   "outputs": [],
   "source": [
   "source": [
    "search_params = catalog.construct_parameters(geometry=aoi, start_date=\"2019-01-01\", end_date=\"2020-12-31\", sortby=\"acquisitionDate\", ascending=False, max_cloudcover=20, sensors=[\"pleiades\",\"spot\",\"sentinel2\"], limit=100)"
    "search_params = catalog.construct_parameters(geometry=aoi, start_date=\"2019-01-01\", end_date=\"2020-12-31\", sortby=\"acquisitionDate\", ascending=False, max_cloudcover=20, sensors=[\"pleiades\",\"spot\",\"sentinel2\"], limit=100)"
   ]
   ]
  },
  },
  {
  {
   "cell_type": "code",
   "cell_type": "code",
   "execution_count": null,
   "execution_count": null,
   "metadata": {},
   "metadata": {},
   "outputs": [],
   "outputs": [],
   "source": [
   "source": [
    "search_params"
    "search_params"
   ]
   ]
  },
  },
  {
  {
   "cell_type": "markdown",
   "cell_type": "markdown",
   "metadata": {},
   "metadata": {},
   "source": [
   "source": [
    "### Perform the search"
    "### Perform the search"
   ]
   ]
  },
  },
  {
  {
   "cell_type": "code",
   "cell_type": "code",
   "execution_count": null,
   "execution_count": null,
   "metadata": {},
   "metadata": {},
   "outputs": [],
   "outputs": [],
   "source": [
   "source": [
    "search_results = catalog.search(search_parameters=search_params)"
    "search_results = catalog.search(search_parameters=search_params)"
   ]
   ]
  },
  },
  {
  {
   "cell_type": "code",
   "cell_type": "code",
   "execution_count": null,
   "execution_count": null,
   "metadata": {},
   "metadata": {},
   "outputs": [],
   "outputs": [],
   "source": [
   "source": [
    "search_results"
    "search_results"
   ]
   ]
  },
  },
  {
  {
   "cell_type": "code",
   "cell_type": "code",
   "execution_count": null,
   "execution_count": null,
   "metadata": {},
   "metadata": {},
   "outputs": [],
   "outputs": [],
   "source": [
   "source": [
    "search_results.head()"
    "search_results.head()"
   ]
   ]
  },
  },
  {
  {
   "cell_type": "markdown",
   "cell_type": "markdown",
   "metadata": {},
   "metadata": {},
   "source": [
   "source": [
    "### Compare with the existing images\n",
    "### Compare with the existing images\n",
    "Like we did before we are going to compare with the existing list. We are going to check separately for Sentinel 2, Pléaides and SPOT, since each correspond to different data blocks, hence different data acquisition workflows.\n",
    "Like we did before we are going to compare with the existing list. We are going to check separately for Sentinel 2, Pléaides and SPOT, since each correspond to different data blocks, hence different data acquisition workflows.\n",
    "The different satellites are listed in the column `constellation`."
    "The different satellites are listed in the column `constellation`."
   ]
   ]
  },
  },
  {
  {
   "cell_type": "code",
   "cell_type": "code",
   "execution_count": null,
   "execution_count": null,
   "metadata": {},
   "metadata": {},
   "outputs": [],
   "outputs": [],
   "source": [
   "source": [
    "# Pléaides results (PHR).\n",
    "# Pléaides results (PHR).\n",
    "pleiades_results = search_results[search_results.constellation == \"PHR\"]"
    "pleiades_results = search_results[search_results.constellation == \"PHR\"]"
   ]
   ]
  },
  },
  {
  {
   "cell_type": "code",
   "cell_type": "code",
   "execution_count": null,
   "execution_count": null,
   "metadata": {},
   "metadata": {},
   "outputs": [],
   "outputs": [],
   "source": [
   "source": [
    "# SPOT results.\n",
    "# SPOT results.\n",
    "spot_results = search_results[search_results.constellation == \"SPOT\"]"
    "spot_results = search_results[search_results.constellation == \"SPOT\"]"
   ]
   ]
  },
  },
  {
  {
   "cell_type": "code",
   "cell_type": "code",
   "execution_count": null,
   "execution_count": null,
   "metadata": {},
   "metadata": {},
   "outputs": [],
   "outputs": [],
   "source": [
   "source": [
    "# Sentinel 2 results.\n",
    "# Sentinel 2 results.\n",
    "sentinel2_results = search_results[search_results.constellation == \"Sentinel-2\"]"
    "sentinel2_results = search_results[search_results.constellation == \"Sentinel-2\"]"
   ]
   ]
  },
  },
  {
  {
   "cell_type": "code",
   "cell_type": "code",
   "execution_count": null,
   "execution_count": null,
   "metadata": {},
   "metadata": {},
   "outputs": [],
   "outputs": [],
   "source": [
   "source": [
    "image_list = pd.read_csv(image_list_file)"
    "image_list = pd.read_csv(image_list_file)"
   ]
   ]
  },
  },
  {
  {
   "cell_type": "markdown",
   "cell_type": "markdown",
   "metadata": {},
   "metadata": {},
   "source": [
   "source": [
    "Now we see if any of the search results for Pléaides are in the image list. "
    "Now we see if any of the search results for Pléaides are in the image list. "
   ]
   ]
  },
  },
  {
  {
   "cell_type": "code",
   "cell_type": "code",
   "execution_count": null,
   "execution_count": null,
   "metadata": {},
   "metadata": {},
   "outputs": [],
   "outputs": [],
   "source": [
   "source": [
    "image_list[image_list[\"scene_id\"].isin(pleiades_results[\"scene_id\"])]"
    "image_list[image_list[\"scene_id\"].isin(pleiades_results[\"scene_id\"])]"
   ]
   ]
  },
  },
  {
  {
   "cell_type": "code",
   "cell_type": "code",
   "execution_count": null,
   "execution_count": null,
   "metadata": {},
   "metadata": {},
   "outputs": [],
   "outputs": [],
   "source": [
   "source": [
    "len(pleiades_results)"
    "len(pleiades_results)"
   ]
   ]
  },
  },
  {
  {
   "cell_type": "markdown",
   "cell_type": "markdown",
   "metadata": {},
   "metadata": {},
   "source": [
   "source": [
    "We see that **all** returned search results for Pléaides **are** in the image list. Therefore there is nothing new to retrieve.\n",
    "We see that **all** returned search results for Pléaides **are** in the image list. Therefore there is nothing new to retrieve.\n",
    "Now we do the same for SPOT and Sentinel 2."
    "Now we do the same for SPOT and Sentinel 2."
   ]
   ]
  },
  },
  {
  {
   "cell_type": "code",
   "cell_type": "code",
   "execution_count": null,
   "execution_count": null,
   "metadata": {},
   "metadata": {},
   "outputs": [],
   "outputs": [],
   "source": [
   "source": [
    "image_list[image_list[\"scene_id\"].isin(spot_results[\"scene_id\"])]"
    "image_list[image_list[\"scene_id\"].isin(spot_results[\"scene_id\"])]"
   ]
   ]
  },
  },
  {
  {
   "cell_type": "code",
   "cell_type": "code",
   "execution_count": null,
   "execution_count": null,
   "metadata": {},
   "metadata": {},
   "outputs": [],
   "outputs": [],
   "source": [
   "source": [
    "len(spot_results)"
    "len(spot_results)"
   ]
   ]
  },
  },
  {
  {
   "cell_type": "code",
   "cell_type": "code",
   "execution_count": null,
   "execution_count": null,
   "metadata": {},
   "metadata": {},
   "outputs": [],
   "outputs": [],
   "source": [
   "source": [
    "existing_sentinel2 = image_list[image_list[\"scene_id\"].isin(sentinel2_results[\"scene_id\"])]"
    "existing_sentinel2 = image_list[image_list[\"scene_id\"].isin(sentinel2_results[\"scene_id\"])]"
   ]
   ]
  },
  },
  {
  {
   "cell_type": "code",
   "cell_type": "code",
   "execution_count": null,
   "execution_count": null,
   "metadata": {},
   "metadata": {},
   "outputs": [],
   "outputs": [],
   "source": [
   "source": [
    "existing_sentinel2"
    "existing_sentinel2"
   ]
   ]
  },
  },
  {
  {
   "cell_type": "code",
   "cell_type": "code",
   "execution_count": null,
   "execution_count": null,
   "metadata": {},
   "metadata": {},
   "outputs": [],
   "outputs": [],
   "source": [
   "source": [
    "len(sentinel2_results) - len(existing_sentinel2)"
    "len(sentinel2_results) - len(existing_sentinel2)"
   ]
   ]
  },
  },
  {
  {
   "cell_type": "markdown",
   "cell_type": "markdown",
   "metadata": {},
   "metadata": {},
   "source": [
   "source": [
    "There are 38 images returned by the search results that are **not** in the image list. However we are only interested in images **after February 21st, 2020**. "
    "There are 38 images returned by the search results that are **not** in the image list. However we are only interested in images **after February 21st, 2020**. "
   ]
   ]
  },
  },
  {
  {
   "cell_type": "code",
   "cell_type": "code",
   "execution_count": null,
   "execution_count": null,
   "metadata": {},
   "metadata": {},
   "outputs": [],
   "outputs": [],
   "source": [
   "source": [
    "# List the acquisition dates for Sentinel 2.\n",
    "# List the acquisition dates for Sentinel 2.\n",
    "sentinel2_results[~sentinel2_results[\"scene_id\"].isin(existing_sentinel2[\"scene_id\"])].acquisitionDate"
    "sentinel2_results[~sentinel2_results[\"scene_id\"].isin(existing_sentinel2[\"scene_id\"])].acquisitionDate"
   ]
   ]
  },
  },
  {
  {
   "cell_type": "markdown",
   "cell_type": "markdown",
   "metadata": {},
   "metadata": {},
   "source": [
   "source": [
    "These correspond to the first **two** rows."
    "These correspond to the first **two** rows."
   ]
   ]
  },
  },
  {
  {
   "cell_type": "code",
   "cell_type": "code",
   "execution_count": null,
   "execution_count": null,
   "metadata": {},
   "metadata": {},
   "outputs": [],
   "outputs": [],
   "source": [
   "source": [
    "non_existing_sentinel2 = sentinel2_results[~sentinel2_results[\"scene_id\"].isin(existing_sentinel2[\"scene_id\"])].iloc[:2]"
    "non_existing_sentinel2 = sentinel2_results[~sentinel2_results[\"scene_id\"].isin(existing_sentinel2[\"scene_id\"])].iloc[:2]"
   ]
   ]
  },
  },
  {
  {
   "cell_type": "code",
   "cell_type": "code",
   "execution_count": null,
   "execution_count": null,
   "metadata": {},
   "metadata": {},
   "outputs": [],
   "outputs": [],
   "source": [
   "source": [
    "non_existing_sentinel2"
    "non_existing_sentinel2"
   ]
   ]
  },
  },
  {
  {
   "cell_type": "markdown",
   "cell_type": "markdown",
   "metadata": {},
   "metadata": {},
   "source": [
   "source": [
    "Finally getting the scene IDs for Sentinel 2 that we will retrieve."
    "Finally getting the scene IDs for Sentinel 2 that we will retrieve."
   ]
   ]
  },
  },
  {
  {
   "cell_type": "code",
   "cell_type": "code",
   "execution_count": null,
   "execution_count": null,
   "metadata": {},
   "metadata": {},
   "outputs": [],
   "outputs": [],
   "source": [
   "source": [
    "sentinel2_scene_ids = non_existing_sentinel2[\"scene_id\"].to_list()"
    "sentinel2_scene_ids = non_existing_sentinel2[\"scene_id\"].to_list()"
   ]
   ]
  },
  },
  {
  {
   "cell_type": "markdown",
   "cell_type": "markdown",
   "metadata": {},
   "metadata": {},
   "source": [
   "source": [
    "## Creating a job for a pre-existing workflow\n",
    "## Creating a job for a pre-existing workflow\n",
    "We are going to use a workflow that was previously created. To be able to refer to a previously existing workflow we need the workflow ID.\n",
    "We are going to use a workflow that was previously created. To be able to refer to a previously existing workflow we need the workflow ID.\n",
    "To get that we look at the URL, e.g.: `https://console.up42.com/projects/c8e817fe-767d-43f3-83bb-3644ea97e4cd/workflows/5447e73a-6edc-466e-8d5b-ecae7da17c45`.\n",
    "To get that we look at the URL, e.g.: `https://console.up42.com/projects/c8e817fe-767d-43f3-83bb-3644ea97e4cd/workflows/5447e73a-6edc-466e-8d5b-ecae7da17c45`.\n",
    "The workflow ID is the last component of the URL: `5447e73a-6edc-466e-8d5b-ecae7da17c45`. This can be obtained by, on the console, clicking on the **Manage With API** button\n",
    "The workflow ID is the last component of the URL: `5447e73a-6edc-466e-8d5b-ecae7da17c45`. This can be obtained by, on the console, clicking on the **Manage With API** button\n",
    "on the upper right corner. You can copy it to the clipboard."
    "on the upper right corner. You can copy it to the clipboard."
   ]
   ]
  },
  },
  {
  {
   "cell_type": "code",
   "cell_type": "code",
   "execution_count": null,
   "execution_count": null,
   "metadata": {},
   "metadata": {},
   "outputs": [],
   "outputs": [],
   "source": [
   "source": [
    "sentinel2_workflow_id = \"5447e73a-6edc-466e-8d5b-ecae7da17c45\""
    "sentinel2_workflow_id = \"5447e73a-6edc-466e-8d5b-ecae7da17c45\""
   ]
   ]
  },
  },
  {
  {
   "cell_type": "markdown",
   "cell_type": "markdown",
   "metadata": {},
   "metadata": {},
   "source": [
   "source": [
    "### Initialize the workflow"
    "### Initialize the workflow"
   ]
   ]
  },
  },
  {
  {
   "cell_type": "code",
   "cell_type": "code",
   "execution_count": null,
   "execution_count": null,
   "metadata": {},
   "metadata": {},
   "outputs": [],
   "outputs": [],
   "source": [
   "source": [
    "sentinel2_workflow = up42.initialize_workflow(workflow_id=sentinel2_workflow_id)"
    "sentinel2_workflow = up42.initialize_workflow(workflow_id=sentinel2_workflow_id)"
   ]
   ]
  },
  },
  {
  {
   "cell_type": "code",
   "cell_type": "code",
   "execution_count": null,
   "execution_count": null,
   "metadata": {},
   "metadata": {},
   "outputs": [],
   "outputs": [],
   "source": [
   "source": [
    "sentinel2_workflow"
    "sentinel2_workflow"
   ]
   ]
  },
  },
  {
  {
   "cell_type": "code",
   "cell_type": "code",
   "execution_count": null,
   "execution_count": null,
   "metadata": {},
   "metadata": {},
   "outputs": [],
   "outputs": [],
   "source": [
   "source": [
    "type(sentinel2_workflow)"
    "type(sentinel2_workflow)"
   ]
   ]
  },
  },
  {
  {
   "cell_type": "markdown",
   "cell_type": "markdown",
   "metadata": {},
   "metadata": {},
   "source": [
   "source": [
    "### List the workflow tasks\n",
    "### List the workflow tasks\n",
    "This workflow has **two** tasks, one for acquiring the [Sentinel 2 full scene](https://marketplace.up42.com/block/98c1acfa-c141-4095-b2e6-acf52d110178) and another one for applying the [super-resolution block](https://marketplace.up42.com/block/f6c29b0a-75bd-44a1-a040-f18c9e881d1d) in order to bring all bands to **10 m** resolution. "
    "This workflow has **two** tasks, one for acquiring the [Sentinel 2 full scene](https://marketplace.up42.com/block/98c1acfa-c141-4095-b2e6-acf52d110178) and another one for applying the [super-resolution block](https://marketplace.up42.com/block/f6c29b0a-75bd-44a1-a040-f18c9e881d1d) in order to bring all bands to **10 m** resolution. "
   ]
   ]
  },
  },
  {
  {
   "cell_type": "code",
   "cell_type": "code",
   "execution_count": null,
   "execution_count": null,
   "metadata": {},
   "metadata": {},
   "outputs": [],
   "outputs": [],
   "source": [
   "source": [
    "sentinel2_workflow.get_workflow_tasks(basic = True)"
    "sentinel2_workflow.get_workflow_tasks(basic = True)"
   ]
   ]
  },
  },
  {
  {
   "cell_type": "markdown",
   "cell_type": "markdown",
   "metadata": {},
   "metadata": {},
   "source": [
   "source": [
    "### Get the job parameters _template_\n",
    "### Get the job parameters _template_\n",
    "We need to find out what parameters are accepted by this workflow. It includes **all** the parameters for **each** block in the workflow."
    "We need to find out what parameters are accepted by this workflow. It includes **all** the parameters for **each** block in the workflow."
   ]
   ]
  },
  },
  {
  {
   "cell_type": "code",
   "cell_type": "code",
   "execution_count": null,
   "execution_count": null,
   "metadata": {},
   "metadata": {},
   "outputs": [],
   "outputs": [],
   "source": [
   "source": [
    "sentinel2_workflow_params_info = sentinel2_workflow.get_parameters_info()"
    "sentinel2_workflow_params_info = sentinel2_workflow.get_parameters_info()"
   ]
   ]
  },
  },
  {
  {
   "cell_type": "code",
   "cell_type": "code",
   "execution_count": null,
   "execution_count": null,
   "metadata": {},
   "metadata": {},
   "outputs": [],
   "outputs": [],
   "source": [
   "source": [
    "sentinel2_workflow_params_info"
    "sentinel2_workflow_params_info"
   ]
   ]
  },
  },
  {
  {
   "cell_type": "markdown",
   "cell_type": "markdown",
   "metadata": {},
   "metadata": {},
   "source": [
   "source": [
    "## Create the job parameters\n",
    "## Create the job parameters\n",
    "Due to the fact that the Super-resolution block requires abn AOI with a minimum of $4\\; km^2$ we cannot use the same AOI as above. We need an **enlarged** AOI. Although we can leave the same date range in place because the scene IDs determine which images are going to be retrieved."
    "Due to the fact that the Super-resolution block requires abn AOI with a minimum of $4\\; km^2$ we cannot use the same AOI as above. We need an **enlarged** AOI. Although we can leave the same date range in place because the scene IDs determine which images are going to be retrieved."
   ]
   ]
  },
  },
  {
  {
   "cell_type": "markdown",
   "cell_type": "markdown",
   "metadata": {},
   "metadata": {},
   "source": [
   "source": [
    "### Data block job parameters\n",
    "### Data block job parameters\n",
    "The job parameters for the data block can be given by arguments to `construct_parameters`. Let us read the enlarged AOI GeoJSON file first."
    "The job parameters for the data block can be given by arguments to `construct_parameters`. Let us read the enlarged AOI GeoJSON file first."
   ]
   ]
  },
  },
  {
  {
   "cell_type": "code",
   "cell_type": "code",
   "execution_count": null,
   "execution_count": null,
   "metadata": {},
   "metadata": {},
   "outputs": [],
   "outputs": [],
   "source": [
   "source": [
    "enlarged_aoi = up42.read_vector_file(\"data/accra_location_enlarged.geojson\")"
    "enlarged_aoi = up42.read_vector_file(\"data/accra_location_enlarged.geojson\")"
   ]
   ]
  },
  },
  {
  {
   "cell_type": "code",
   "cell_type": "code",
   "execution_count": null,
   "execution_count": null,
   "metadata": {},
   "metadata": {},
   "outputs": [],
   "outputs": [],
   "source": [
   "source": [
    "sentinel2_job_params = sentinel2_workflow.construct_parameters(geometry=enlarged_aoi, geometry_operation = \"intersects\", scene_ids=sentinel2_scene_ids)"
    "sentinel2_job_params = sentinel2_workflow.construct_parameters(geometry=enlarged_aoi, geometry_operation = \"intersects\", scene_ids=sentinel2_scene_ids)"
   ]
   ]
  },
  },
  {
  {
   "cell_type": "code",
   "cell_type": "code",
   "execution_count": null,
   "execution_count": null,
   "metadata": {},
   "metadata": {},
   "outputs": [],
   "outputs": [],
   "source": [
   "source": [
    "sentinel2_job_params"
    "sentinel2_job_params"
   ]
   ]
  },
  },
  {
  {
   "cell_type": "markdown",
   "cell_type": "markdown",
   "metadata": {},
   "metadata": {},
   "source": [
   "source": [
    "### Processing blocks job parameters\n",
    "### Processing blocks job parameters\n",
    "Since it is not possible to foresee all the possible combinations of parameters for a processing block we must specifiy the parameters for the processing block **directly**.\n",
    "Since it is not possible to foresee all the possible combinations of parameters for a processing block we must specifiy the parameters for the processing block **directly**.\n",
    "By modifying the JSON (Python dictionary) `sentinal2_job_parameters`."
    "By modifying the JSON (Python dictionary) `sentinal2_job_parameters`."
   ]
   ]
  },
  },
  {
  {
   "cell_type": "code",
   "cell_type": "code",
   "execution_count": null,
   "execution_count": null,
   "metadata": {},
   "metadata": {},
   "outputs": [],
   "outputs": [],
   "source": [
   "source": [
    "# Get the dictionary key first.\n",
    "# Get the dictionary key first.\n",
    "t_keys = list(sentinel2_workflow_params_info.keys())"
    "t_keys = list(sentinel2_workflow_params_info.keys())"
   ]
   ]
  },
  },
  {
  {
   "cell_type": "code",
   "cell_type": "code",
   "execution_count": null,
   "execution_count": null,
   "metadata": {},
   "metadata": {},
   "outputs": [],
   "outputs": [],
   "source": [
   "source": [
    "t_keys"
    "t_keys"
   ]
   ]
  },
  },
  {
  {
   "cell_type": "markdown",
   "cell_type": "markdown",
   "metadata": {},
   "metadata": {},
   "source": [
   "source": [
    "Is the second key we are interested in."
    "Is the second key we are interested in."
   ]
   ]
  },
  },
  {
  {
   "cell_type": "code",
   "cell_type": "code",
   "execution_count": null,
   "execution_count": null,
   "metadata": {},
   "metadata": {},
   "outputs": [],
   "outputs": [],
   "source": [
   "source": [
    "t2_key = t_keys[1]"
    "t2_key = t_keys[1]"
   ]
   ]
  },
  },
  {
  {
   "cell_type": "code",
   "cell_type": "code",
   "execution_count": null,
   "execution_count": null,
   "metadata": {},
   "metadata": {},
   "outputs": [],
   "outputs": [],
   "source": [
   "source": [
    "t2_key"
    "t2_key"
   ]
   ]
  },
  },
  {
  {
   "cell_type": "markdown",
   "cell_type": "markdown",
   "metadata": {},
   "metadata": {},
   "source": [
   "source": [
    "Selecting the parameters for the Super-resolution block we have to go _back_ to the original parameter template. For a full explanation of the possible parameters please refer to the block [reference documentation](https://docs.up42.com/up42-blocks/processing/s2-superresolution.html).\n",
    "Selecting the parameters for the Super-resolution block we have to go _back_ to the original parameter template. For a full explanation of the possible parameters please refer to the block [reference documentation](https://docs.up42.com/up42-blocks/processing/s2-superresolution.html).\n",
    "Since we want to **clip** the image to be super-resolved to the original AOI we need to _inject_ the data block AOI specification into the Super-resolution block parameters and also set the `clip_to_aoi` parameter to `True`."
    "Since we want to **clip** the image to be super-resolved to the original AOI we need to _inject_ the data block AOI specification into the Super-resolution block parameters and also set the `clip_to_aoi` parameter to `True`."
   ]
   ]
  },
  },
  {
  {
   "cell_type": "code",
   "cell_type": "code",
   "execution_count": null,
   "execution_count": null,
   "metadata": {},
   "metadata": {},
   "outputs": [],
   "outputs": [],
   "source": [
   "source": [
    "sentinel2_job_params[t2_key][\"intersects\"] = sentinel2_job_params[t_keys[0]][\"intersects\"]"
    "sentinel2_job_params[t2_key][\"intersects\"] = sentinel2_job_params[t_keys[0]][\"intersects\"]"
   ]
   ]
  },
  },
  {
  {
   "cell_type": "code",
   "cell_type": "code",
   "execution_count": null,
   "execution_count": null,
   "metadata": {},
   "metadata": {},
   "outputs": [],
   "outputs": [],
   "source": [
   "source": [
    "sentinel2_job_params[t2_key][\"clip_to_aoi\"] = True"
    "sentinel2_job_params[t2_key][\"clip_to_aoi\"] = True"
   ]
   ]
  },
  },
  {
  {
   "cell_type": "code",
   "cell_type": "code",
   "execution_count": null,
   "execution_count": null,
   "metadata": {},
   "metadata": {},
   "outputs": [],
   "outputs": [],
   "source": [
   "source": [
    "sentinel2_job_params"
    "sentinel2_job_params"
   ]
   ]
  },
  },
  {
  {
   "cell_type": "markdown",
   "cell_type": "markdown",
   "metadata": {},
   "metadata": {},
   "source": [
   "source": [
    "Now we have set **all** the parameters for **both** blocks."
    "Now we have set **all** the parameters for **both** blocks."
   ]
   ]
  },
  },
  {
  {
   "cell_type": "markdown",
   "cell_type": "markdown",
   "metadata": {},
   "metadata": {},
   "source": [
   "source": [
    "## Run the job and retrieve the Sentinel 2 images\n",
    "## Run the job and retrieve the Sentinel 2 images\n",
    "We are going to name the job so that is easier to find when going on the console."
    "We are going to name the job so that is easier to find when going on the console."
   ]
   ]
  },
  },
  {
  {
   "cell_type": "code",
   "cell_type": "code",
   "execution_count": null,
   "execution_count": null,
   "metadata": {},
   "metadata": {},
   "outputs": [],
   "outputs": [],
   "source": [
   "source": [
    "sentinel2_job = sentinel2_workflow.run_job(input_parameters=sentinel2_job_params, name=\"Sentinel 2 missing images retrieval\", track_status=True)"
    "sentinel2_job = sentinel2_workflow.run_job(input_parameters=sentinel2_job_params, name=\"Sentinel 2 missing images retrieval\", track_status=True)"
   ]
   ]
  },
  },
  {
  {
   "cell_type": "markdown",
   "cell_type": "markdown",
   "metadata": {},
   "metadata": {},
   "source": [
   "source": [
    "## Download the results\n",
    "## Download the results\n",
    "Now we download the **two** Sentinel 2 full scenes we retrieved."
    "Now we download the **two** Sentinel 2 full scenes we retrieved."
   ]
   ]
  },
  },
  {
  {
   "cell_type": "code",
   "cell_type": "code",
   "execution_count": null,
   "execution_count": null,
   "metadata": {},
   "metadata": {},
   "outputs": [],
   "outputs": [],
   "source": [
   "source": [
    "my_sentinel2_path=\"/tmp/my-sentinel2-results\"\n",
    "my_sentinel2_path=\"/tmp/my-sentinel2-results\"\n",
    "Path(my_sentinel2_path).mkdir(parents=True, exist_ok=True)"
    "Path(my_sentinel2_path).mkdir(parents=True, exist_ok=True)"
   ]
   ]
  },
  },
  {
  {
   "cell_type": "code",
   "cell_type": "code",
   "execution_count": null,
   "execution_count": null,
   "metadata": {},
   "metadata": {},
   "outputs": [],
   "outputs": [],
   "source": [
   "source": [
    "sentinel2_job_results = sentinel2_job.download_results(output_directory=my_sentinel2_path)"
    "sentinel2_job_results = sentinel2_job.download_results(output_directory=my_sentinel2_path)"
   ]
   ]
  },
  },
  {
  {
   "cell_type": "markdown",
   "cell_type": "markdown",
   "metadata": {},
   "metadata": {},
   "source": [
   "source": [
    "## Visualize the results\n",
    "## Visualize the results\n",
    "Looking inside the output directory."
    "Looking inside the output directory."
   ]
   ]
  },
  },
  {
  {
   "cell_type": "code",
   "cell_type": "code",
   "execution_count": null,
   "execution_count": null,
   "metadata": {},
   "metadata": {},
   "outputs": [],
   "outputs": [],
   "source": [
   "source": [
    "%%bash\n",
    "%%bash\n",
    "ls -laR /tmp/my-sentinel2-results"
    "ls -laR /tmp/my-sentinel2-results"
   ]
   ]
  },
  },
  {
  {
   "cell_type": "code",
   "cell_type": "code",
   "execution_count": null,
   "execution_count": null,
   "metadata": {},
   "metadata": {},
   "outputs": [],
   "outputs": [],
   "source": [
   "source": [
    "# First we get the GeoTIFF image(s) filename(s).\n",
    "# First we get the GeoTIFF image(s) filename(s).\n",
    "sentinel2_img_files = [f for f in glob.glob(my_sentinel2_path + \"/*.tif\")]"
    "sentinel2_img_files = [f for f in glob.glob(my_sentinel2_path + \"/*.tif\")]"
   ]
   ]
  },
  },
  {
  {
   "cell_type": "code",
   "cell_type": "code",
   "execution_count": null,
   "execution_count": null,
   "metadata": {},
   "metadata": {},
   "outputs": [],
   "outputs": [],
   "source": [
   "source": [
    "sentinel2_img_files"
    "sentinel2_img_files"
   ]
   ]
  },
  },
  {
  {
   "cell_type": "code",
   "cell_type": "code",
   "execution_count": null,
   "execution_count": null,
   "metadata": {},
   "metadata": {},
   "outputs": [],
   "outputs": [],
   "source": [
   "source": [
    "# Now we plot the image files.\n",
    "# Now we plot the image files.\n",
    "[plt.figure(figsize=(12,12)) and plt.title(s) and plt.axis(\"off\") and plot.show(s) for s in [open(f) for f in img_files]];"
    "[plt.figure(figsize=(12,12)) and plt.title(s) and plt.axis(\"off\") and plot.show(s) for s in [open(f) for f in img_files]];"
   ]
   ]
  },
  },
  {
  {
   "cell_type": "markdown",
   "cell_type": "markdown",
   "metadata": {},
   "metadata": {},
   "source": [
   "source": [
    "## Visualize the quicklooks"
    "## Visualize the quicklooks"
   ]
   ]
  },
  },
  {
  {
   "cell_type": "code",
   "cell_type": "code",
   "execution_count": null,
   "execution_count": null,
   "metadata": {},
   "metadata": {},
   "outputs": [],
   "outputs": [],
   "source": [
   "source": [
    "sentinel2_quicklooks = sentinel2_job.download_quicklooks(output_directory=my_sentinel2_path)"
    "sentinel2_quicklooks = sentinel2_job.download_quicklooks(output_directory=my_sentinel2_path)"
   ]
   ]
  },
  },
  {
  {
   "cell_type": "code",
   "cell_type": "code",
   "execution_count": null,
   "execution_count": null,
   "metadata": {},
   "metadata": {},
   "outputs": [],
   "outputs": [],
   "source": [
   "source": [
    "sentinel2_quicklooks"
    "sentinel2_quicklooks"
   ]
   ]
  },
  },
  {
  {
   "cell_type": "code",
   "cell_type": "code",
   "execution_count": null,
   "execution_count": null,
   "metadata": {},
   "metadata": {},
   "outputs": [],
   "outputs": [],
   "source": [
   "source": [
    "[plt.figure(figsize=(12,12)) and plt.title(s) and plt.axis(\"off\") and plot.show(s) for s in [open(f) for f in sentinel2_quicklooks]];"
    "[plt.figure(figsize=(12,12)) and plt.title(s) and plt.axis(\"off\") and plot.show(s) for s in [open(f) for f in sentinel2_quicklooks]];"
   ]
   ]
  },
  },
  {
  {
   "cell_type": "markdown",
   "cell_type": "markdown",
   "metadata": {},
   "metadata": {},
   "source": [
   "source": [
    "## Adding the retrieved images to the image list\n",
    "## Adding the retrieved images to the image list\n",
    "\n",
    "\n",
    "We already have the scene IDs and acquisition dates."
    "We already have the scene IDs and acquisition dates."
   ]
   ]
  },
  },
  {
  {
   "cell_type": "code",
   "cell_type": "code",
   "execution_count": null,
   "execution_count": null,
   "metadata": {},
   "metadata": {},
   "outputs": [],
   "outputs": [],
   "source": [
   "source": [
    "non_existing_sentinel2"
    "non_existing_sentinel2"
   ]
   ]
  },
  },
  {
  {
   "cell_type": "code",
   "cell_type": "code",
   "execution_count": null,
   "execution_count": null,
   "metadata": {},
   "metadata": {},
   "outputs": [],
   "outputs": [],
   "source": [
   "source": [
    "# Append it to the image list CSV file.\n",
    "# Append it to the image list CSV file.\n",
    "non_existing_sentinel2[[\"acquisitionDate\",\"scene_id\"]].to_csv(image_list_file, mode = \"a\", index = False, header = False)"
    "non_existing_sentinel2[[\"acquisitionDate\",\"scene_id\"]].to_csv(image_list_file, mode = \"a\", index = False, header = False)"
   ]
   ]
  },
  },
  {
  {
   "cell_type": "markdown",
   "cell_type": "markdown",
   "metadata": {},
   "metadata": {},
   "source": [
   "source": [
    "Inspecting the file."
    "Inspecting the file."
   ]
   ]
  },
  },
  {
  {
   "cell_type": "code",
   "cell_type": "code",
   "execution_count": null,
   "execution_count": null,
   "metadata": {},
   "metadata": {},
   "outputs": [],
   "outputs": [],
   "source": [
   "source": [
    "%%bash\n",
    "%%bash\n",
    "tail -2 data/image_list.csv"
    "tail -2 data/image_list.csv"
   ]
   ]
  },
  },
  {
  {
   "cell_type": "markdown",
   "cell_type": "markdown",
   "metadata": {},
   "metadata": {},
   "source": [
   "source": [
    "## Done"
    "## Done"
   ]
   ]
  },
  },
  {
  {
   "cell_type": "markdown",
   "cell_type": "markdown",
   "metadata": {},
   "metadata": {},
   "source": [
   "source": [
    "We can see the two images added to the image list."
    "We can see the two images added to the image list."
   ]
   ]
  },
  },
  {
  {
   "cell_type": "markdown",
   "cell_type": "markdown",
   "metadata": {},
   "metadata": {},
   "source": [
   "source": [
    "## Next steps\n",
    "## Next steps\n",
    "\n",
    "\n",
    "Now that we have established the process we can go forth and set a periodic run of this procedure. In UNIX based operating systems [cron](https://en.wikipedia.org/wiki/Cron) allows to schedule the invocation of programs according to pre-defined schedule.\n",
    "Now that we have established the process we can go forth and set a periodic run of this procedure. In UNIX based operating systems [cron](https://en.wikipedia.org/wiki/Cron) allows to schedule the invocation of programs according to pre-defined schedule.\n",
    "Explaining how to set up cron is out of the scope of this document.\n",
    "Explaining how to set up cron is out of the scope of this document.\n",
    "\n",
    "\n",
    "## Support\n",
    "## Support\n",
    "\n",
    "\n",
    "Any issue you might find or question you might have about this notebook, the UP42 API, the UP42 platform or UP42 in general should be sent to: [support@up42.com](mailto:support@up42.com). "
    "Any issue you might find or question you might have about this notebook, the UP42 API, the UP42 platform or UP42 in general should be sent to: [support@up42.com](mailto:support@up42.com). "
   ]
   ]
  },
  },
  {
  {
   "cell_type": "code",
   "cell_type": "code",
   "execution_count": null,
   "execution_count": null,
   "metadata": {},
   "metadata": {},
   "outputs": [],
   "outputs": [],
   "source": []
   "source": []
  }
  }
 ],
 ],
 "metadata": {
 "metadata": {
  "kernelspec": {
  "kernelspec": {
   "display_name": "Python 3",
   "display_name": "Python 3",
   "language": "python",
   "language": "python",
   "name": "python3"
   "name": "python3"
  },
  },
  "language_info": {
  "language_info": {
   "codemirror_mode": {
   "codemirror_mode": {
    "name": "ipython",
    "name": "ipython",
    "version": 3
    "version": 3
   },
   },
   "file_extension": ".py",
   "file_extension": ".py",
   "mimetype": "text/x-python",
   "mimetype": "text/x-python",
   "name": "python",
   "name": "python",
   "nbconvert_exporter": "python",
   "nbconvert_exporter": "python",
   "pygments_lexer": "ipython3",
   "pygments_lexer": "ipython3",
   "version": "3.7.6"
   "version": "3.7.6"
  },
  },
  "toc-autonumbering": false,
  "toc-autonumbering": false,
  "toc-showcode": false,
  "toc-showcode": false,
  "toc-showmarkdowntxt": false,
  "toc-showmarkdowntxt": false,
  "toc-showtags": false
  "toc-showtags": false
 },
 },
 "nbformat": 4,
 "nbformat": 4,
 "nbformat_minor": 4
 "nbformat_minor": 4
}
}
